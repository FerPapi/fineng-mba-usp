{
 "cells": [
  {
   "cell_type": "code",
   "execution_count": 59,
   "id": "0873a0d7-c2f8-4f0a-b8e0-1b6d91c5eaf2",
   "metadata": {
    "tags": []
   },
   "outputs": [],
   "source": [
    "import numpy as np\n",
    "from IPython.display import display, Image\n",
    "float_formatter = \"{:.3f}\".format\n",
    "np.set_printoptions(formatter={'float_kind':float_formatter})"
   ]
  },
  {
   "cell_type": "markdown",
   "id": "d4362ddb-7533-4fca-b9d5-c1aeb28b00ff",
   "metadata": {},
   "source": [
    "### 1a Questão: \n",
    "Um prisioneiro está preso em uma cela com 3 portas.\n",
    "A primeira porta leva a um túnel que, após 8 dias, retorna ao ponto inicial. A segunda porta leva a um túnel que, após 6 dias, leva à liberdade. A terceira porta leva a um túnel que, após 10 dias, retorna ao ponto inicial.\n"
   ]
  },
  {
   "cell_type": "markdown",
   "id": "d57fd4cf-14a7-44b7-a31f-48766c4ca440",
   "metadata": {},
   "source": [
    "#### a) (Sem memória) \n",
    "\n",
    "Suponha que o prisioneiro sempre escolhe as portas 1, 2 e 3 com probabilidades 1/3, 1/3 e 1/3 respectivamente, e seja X o número de dias até o prisioneiro alcançar a liberdade. Determine E(X) e Var(X)\n",
    "\n",
    "#### R.: \n",
    "Seja N uma variável aleatória que indica a porta escolhida. Como para as portas 1 e 3, se escolhidas, retornamos ao ponto inicial, temos que:\n",
    "\n",
    "$E[X | N = 1] = 8 + E[X]$ \\\n",
    "$E[X | N = 2] = 6$ \\\n",
    "$E[X | N = 3] = 10 + E[X]$ \n",
    "\n",
    "Portanto o valor esperado de X, $E[X]$ é:\n",
    "\n",
    "$E[X] = \\frac{1}{3}*(8 + E[X]) + \\frac{1}{3}*6 + \\frac{1}{3}*(10 + E[X]) = \\frac{24}{3} + \\frac{2E[X]}{3} \\implies E[X] = 24$\n",
    "\n",
    "e\n",
    "\n",
    "$Var(X) = E[X^2] - E[X]^2$\n",
    "\n",
    "$E[X^2 | N = 1] = E[(8 + X)^2] = 64 + 16E[X] + E[X^2] = 64 + 16*24 + E[X]^2 \\implies 448 + E[X^2]$ \\\n",
    "$E[X^2 | N = 2] = 36$ \\\n",
    "$E[X^2 | N = 3] = E[(10 + X)^2] = 100 + 20E[X] + E[X^2] = 100 + 20*24 + E[X^2] \\implies 580 + E[X^2]$\n",
    "\n",
    "$\\implies E[X^2] = \\frac{1}{3}*(448 + E[X^2]) + \\frac{1}{3}*(36) + \\frac{1}{3}*(580 + E[X^2]) = \\frac{1}{3}*(1064 + 2E[X^2]) \\implies E[X^2] = 1064$ \\\n",
    "$\\implies VAR(X) = 1064 - (24)^2 = 488$ "
   ]
  },
  {
   "cell_type": "markdown",
   "id": "b4d4f3f4-8049-414f-bad7-0cfc35711f87",
   "metadata": {},
   "source": [
    "#### a) (Com memória) \n",
    "Repita o item a), assumindo agora que o prisioneiro é igualmente provável de escolher uma das portas que ele não tenha escolhido anteriormente.\n",
    "\n",
    "#### R.: \n",
    "Seja N uma variável aleatória que indica a porta escolhida. Como para as portas 1 e 3, se escolhidas, retornamos ao ponto inicial mas nesse caso, não são selecionadas novamente, temos que:\n",
    "\n",
    "$E[X | N = 1] = 8 + \\frac{1}{2}*(6) + \\frac{1}{2}*(10 + 6) = 19$ \\\n",
    "$E[X | N = 2] = 6$ \\\n",
    "$E[X | N = 3] = 10 + \\frac{1}{2}*(6) + \\frac{1}{2}*(8 + 6) = 20$ \n",
    "\n",
    "Portanto o valor esperado de X, $E[X]$ é:\n",
    "\n",
    "$E[X] = \\frac{1}{3}*(19) + \\frac{1}{3}*6 + \\frac{1}{3}*(20) = 15$\n",
    "\n",
    "e\n",
    "\n",
    "$Var(X) = E[X^2] - E[X]^2$\n",
    "\n",
    "Para calcular $E[X^2]$, temos:\n",
    "\n",
    "$E[X^2 | N = 2] = 36$\n",
    "\n",
    "$E[X^2 | N = 1] = E[(8 + X_1)^2] = E[64 + 16X_1 + X_1^2] = 64 + 16E[X_1] + E[X_1^2]$ \\\n",
    "onde \\\n",
    "$E[X_1] =  \\frac{1}{2}*6 + \\frac{1}{2}*(10 + 6) = 11$ \\\n",
    "$E[X_1^2] = \\frac{1}{2}*(10^2 + 6^2) = 68$ \\\n",
    "$\\implies E[X^2 | N = 1] = 64 + 16*11 + 68 = 308$\n",
    "\n",
    "e\n",
    "\n",
    "$E[X^2 | N = 3] = E[(10 + X_3)^2] = E[100 + 20X_3 + X_3^2] = 100 + 20E[X_3] + E[X_3^2]$ \\\n",
    "onde \\\n",
    "$E[X_3] =  \\frac{1}{2}*(6) + \\frac{1}{2}*(8 + 6) = 10$ \\\n",
    "$E[X_3^2] = \\frac{1}{2}*(8^2 + 6^2) = 50$ \\\n",
    "$\\implies E[X^2 | N = 3] = 100 + 20*10 + 50 = 350$\n",
    "\n",
    "portanto\n",
    "\n",
    "$E[X^2] = \\frac{1}{3}(36 + 308 + 350) = \\frac{694}{3}$ \\\n",
    "$VAR(X) = \\frac{694}{3} - (15)^2 = \\frac{19}{3} = 6.33$\n",
    "\n",
    "\n"
   ]
  },
  {
   "cell_type": "markdown",
   "id": "58473c0f-14f8-4cc0-8874-92107fbc09c9",
   "metadata": {},
   "source": [
    "### 2a Questão: \n",
    "Uma moeda com probabilidade p = 1/4 de dar cara é jogada até que ocorram 2 caras consecutivas. Seja N o número de jogadas até que isso ocorra. Determine o valor esperado E(N)."
   ]
  },
  {
   "cell_type": "code",
   "execution_count": 38,
   "id": "aa51ecb7-c9a2-4aca-b68f-679c3f6632c9",
   "metadata": {
    "tags": []
   },
   "outputs": [
    {
     "data": {
      "text/plain": [
       "matrix([[20.],\n",
       "        [16.]])"
      ]
     },
     "execution_count": 38,
     "metadata": {},
     "output_type": "execute_result"
    }
   ],
   "source": [
    "P = np.matrix([[3/4, 1/4, 0],\n",
    "               [3/4, 0, 1/4],\n",
    "               [0, 0, 1]])\n",
    "\n",
    "Q = np.matrix([[3/4, 1/4],\n",
    "               [3/4, 0]])\n",
    "\n",
    "(np.identity(2)-T)**-1*np.array([[1,1]]).T"
   ]
  },
  {
   "cell_type": "markdown",
   "id": "f941a1c9-ebc2-426b-9c5d-fbc5eb73c5ec",
   "metadata": {
    "tags": []
   },
   "source": [
    "R.: Podemos definir o sistema para uma variável X, sendo X o número de caras consecutivas, como uma cadeia de markov com matriz de transição P, já na forma canônica:"
   ]
  },
  {
   "cell_type": "code",
   "execution_count": 33,
   "id": "3ce5bd8d-7848-4c5e-82b5-33f4ef06259a",
   "metadata": {
    "tags": []
   },
   "outputs": [
    {
     "data": {
      "image/png": "[encoded data removed]",
      "text/plain": [
       "<IPython.core.display.Image object>"
      ]
     },
     "metadata": {
      "image/png": {
       "height": 600,
       "width": 600
      }
     },
     "output_type": "display_data"
    }
   ],
   "source": [
    "display(Image(filename=\"./prob/markov2.png\", height=600, width=600))"
   ]
  },
  {
   "cell_type": "markdown",
   "id": "43f14645-429c-45a3-931d-8f8a85acc78d",
   "metadata": {},
   "source": [
    "$$\n",
    "P = \n",
    "\\left(\\begin{array}{cc} \n",
    "3/4 & 1/4 & 0\\\\\n",
    "3/4 & 0 & 1/4\\\\\n",
    "0 & 0 & 1\n",
    "\\end{array}\\right)\n",
    "$$\n",
    "do tipo\n",
    "\n",
    "$$\n",
    "P = \n",
    "\\left(\\begin{array}{c|c} \n",
    "T & R\\\\\n",
    "\\hline\n",
    "0 & I\n",
    "\\end{array}\\right)\n",
    "$$\n",
    "Onde Q é a matrix dos estados transientes\n",
    "$$\n",
    "Q = \n",
    "\\left(\\begin{array}{cc} \n",
    "3/4 & 1/4\\\\\n",
    "3/4 & 0\\\\\n",
    "\\end{array}\\right)\n",
    "$$\n",
    "\n",
    "N, chamada de matrix fundamental de P, é definida por $N = (I - Q)^{-1}$, :\n",
    "$$\n",
    "N = \n",
    "\\left(\\begin{array}{cc} \n",
    "16 & 4\\\\\n",
    "12 & 4\\\\\n",
    "\\end{array}\\right)\n",
    "$$\n",
    "\n",
    "E o número de passos dados para os estados absorventes (nesse caso apenas o último) a partir de cada estado transiente $i$ é a $i_{th}$ linha de $N*{1}$, onde $1$ é um vetor unitário $i_\\chi1$\n",
    "\n",
    "Portanto,\n",
    "$$\n",
    "\\left(\\begin{array}{cc} \n",
    "16 & 4\\\\\n",
    "12 & 4\\\\\n",
    "\\end{array}\\right)*\n",
    "\\left(\\begin{array}{cc} \n",
    "1\\\\\n",
    "1\\\\\n",
    "\\end{array}\\right)=\n",
    "\\left(\\begin{array}{cc} \n",
    "20\\\\\n",
    "16\\\\\n",
    "\\end{array}\\right)\n",
    "$$\n",
    "\n",
    "e \n",
    "\n",
    "$E[N] = 20$"
   ]
  },
  {
   "cell_type": "markdown",
   "id": "f70c7b6e-539c-47f9-ba75-4c4cd44a8f41",
   "metadata": {},
   "source": [
    "### 3a Questão: \n",
    "Considere um jogo em que o jogador, a cada partida, perde 1 real com probabilidade 2/3, e ganha 2 reais com probabilidade 1/3. Suponha que o jogador comece com 2 reais, e que ele\n",
    "pára de jogar se quebrar ou atingir pelo menos 4 reais."
   ]
  },
  {
   "cell_type": "markdown",
   "id": "dd6a210d-64a0-4c24-b5f0-a48327de302c",
   "metadata": {},
   "source": [
    "#### a) Escreva o diagrama de Markov e determine a matriz de transição da cadeia de Markov.\n",
    "#### R.:\n",
    "Já na forma canônica, temos os estados 1, 2 e 3 (representando o montante do jogador em determinado momento), nas primeiras tres linhas e colunas, como estados transientes, e os montantes 0, 4 e 5 como estados absorventes, nas linhas e colunas 4, 5, 6, respectivamente\n",
    "$$\n",
    "P = \n",
    "\\left(\\begin{array}{ccc|ccc} \n",
    "0 & 0 & 1/3 & 2/3 & 0 & 0\\\\\n",
    "2/3 & 0 & 0 & 0 & 1/3 & 0\\\\\n",
    "0 & 2/3 & 0 & 0 & 0 & 1/3\\\\\n",
    "\\hline\n",
    "0 & 0 & 0 & 1 & 0 & 0\\\\\n",
    "0 & 0 & 0 & 0 & 1 & 0\\\\\n",
    "0 & 0 & 0 & 0 & 0 & 1\\\\\n",
    "\\end{array}\\right)\n",
    "$$"
   ]
  },
  {
   "cell_type": "code",
   "execution_count": 41,
   "id": "e80ef1b9-e2d7-4d3a-bdd9-91df4d51d57b",
   "metadata": {
    "tags": []
   },
   "outputs": [
    {
     "data": {
      "image/png": "[encoded data removed]",
      "text/plain": [
       "<IPython.core.display.Image object>"
      ]
     },
     "metadata": {
      "image/png": {
       "height": 600,
       "width": 600
      }
     },
     "output_type": "display_data"
    }
   ],
   "source": [
    "display(Image(filename=\"./prob/markov3a.png\", height=600, width=600))"
   ]
  },
  {
   "cell_type": "markdown",
   "id": "2d4e57bc-c69c-4a5e-9879-669adb55a6f3",
   "metadata": {},
   "source": [
    "#### b) Qual é a probabilidade de que existam pelo menos 4 partidas?\n",
    "#### R.: \n",
    "\n",
    "A probabilidade de que existam ao menos 4 partidas é dada pela soma da probabilidade dos estados transientes após 3 partidas.\n",
    "\n",
    "Dado um vetor de estado inicial $I_0 = [0, 1, 0, 0, 0, 0]'$, a probabilidade de cada estado após $k$ jogadas é dado por $P_k = I_0*P^k$\n"
   ]
  },
  {
   "cell_type": "code",
   "execution_count": 61,
   "id": "b4e9e520-ffbb-4c22-813f-7881bec46585",
   "metadata": {
    "tags": []
   },
   "outputs": [
    {
     "data": {
      "text/plain": [
       "matrix([[0.000, 0.148, 0.000, 0.444, 0.333, 0.074]])"
      ]
     },
     "execution_count": 61,
     "metadata": {},
     "output_type": "execute_result"
    }
   ],
   "source": [
    "P = np.matrix([[0, 0, 1/3, 2/3, 0, 0],\n",
    "               [2/3, 0, 0, 0, 1/3, 0],\n",
    "               [0, 2/3, 0, 0, 0, 1/3],\n",
    "               [0, 0, 0, 1, 0, 0],\n",
    "               [0, 0, 0, 0, 1, 0],\n",
    "               [0, 0, 0, 0, 0, 1],])\n",
    "              \n",
    "i = np.array([[0, 1, 0, 0, 0, 0]])\n",
    "i*P**3"
   ]
  },
  {
   "cell_type": "markdown",
   "id": "220f8324-3d2b-4245-a5ad-8bc8bf15b16b",
   "metadata": {},
   "source": [
    "Então\n",
    "\n",
    "$$\n",
    "P_3 = I_0*P^3 = \n",
    "\\left(\\begin{array}{c} \n",
    "0\\\\ \n",
    "0.148\\\\ \n",
    "0\\\\\n",
    "\\hline\n",
    "0.444\\\\ \n",
    "0.333\\\\\n",
    "0.074\\\\\n",
    "\\end{array}\\right)\n",
    "$$\n",
    "\n",
    "Ou seja, há uma probabilidade de 14.8% de haver uma próxima partida a partir da 3a partida"
   ]
  },
  {
   "cell_type": "markdown",
   "id": "79db18a4-0c4d-40b4-8605-c5fd5eaab34a",
   "metadata": {},
   "source": [
    "#### c)  Qual é a probabilidade do jogador sair vencedor (ou seja, a fortuna do jogador atingir 4 reais ou mais)?\n",
    "#### R.: \n",
    "\n",
    "A probabilidade é dada pelo regime permanente do sistema,\n"
   ]
  },
  {
   "cell_type": "code",
   "execution_count": null,
   "id": "e53e990f-9f85-4a33-9a17-e678853dd01a",
   "metadata": {},
   "outputs": [],
   "source": []
  }
 ],
 "metadata": {
  "kernelspec": {
   "display_name": "Python 3 (ipykernel)",
   "language": "python",
   "name": "python3"
  },
  "language_info": {
   "codemirror_mode": {
    "name": "ipython",
    "version": 3
   },
   "file_extension": ".py",
   "mimetype": "text/x-python",
   "name": "python",
   "nbconvert_exporter": "python",
   "pygments_lexer": "ipython3",
   "version": "3.10.6"
  }
 },
 "nbformat": 4,
 "nbformat_minor": 5
}
