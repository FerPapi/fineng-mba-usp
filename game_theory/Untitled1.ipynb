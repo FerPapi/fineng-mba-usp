{
 "cells": [
  {
   "cell_type": "code",
   "execution_count": 2,
   "id": "d2227563-3199-4f3a-85f3-be72340b374f",
   "metadata": {},
   "outputs": [],
   "source": [
    "import nashpy as nash\n",
    "import numpy as np"
   ]
  },
  {
   "cell_type": "code",
   "execution_count": null,
   "id": "ed5bf3fd-6ad4-4ad5-a960-b86f88cbb1cd",
   "metadata": {},
   "outputs": [],
   "source": []
  },
  {
   "cell_type": "code",
   "execution_count": 6,
   "id": "42ea3ae0-3194-4d26-9694-caa2e1372c80",
   "metadata": {},
   "outputs": [
    {
     "name": "stdout",
     "output_type": "stream",
     "text": [
      "Bi matrix game with payoff matrices:\n",
      "\n",
      "Row player:\n",
      "[[3 1]\n",
      " [4 1]\n",
      " [2 2]\n",
      " [2 2]]\n",
      "\n",
      "Column player:\n",
      "[[1 2]\n",
      " [3 2]\n",
      " [1 1]\n",
      " [1 1]]\n",
      "\n",
      "Equilíbrio de Nash (support_enumeration method):\n",
      "(array([0., 1., 0., 0.]), array([1., 0.]))\n",
      "(array([0., 0., 1., 0.]), array([0., 1.]))\n",
      "(array([0., 0., 0., 1.]), array([0., 1.]))\n"
     ]
    }
   ],
   "source": [
    "# Estratégias Mistas - Nicho de Mercado - Pág. 87\n",
    "F1 = np.array([[3, 1], [4, 1], [2,2], [2,2]])\n",
    "F2 = np.array([[1, 2], [3, 2], [1,1], [1,1]])\n",
    "my_game = nash.Game(F1, F2)\n",
    "print(my_game)\n",
    "\n",
    "print(\"\\nEquilíbrio de Nash (support_enumeration method):\")\n",
    "equilibria = my_game.support_enumeration()\n",
    "for eq in equilibria:\n",
    "    print(eq)\n",
    "\n",
    "\n",
    "# # Estratégia MaxMin - Exemplo Net/Embratel x Sky/DirectTV - Pág. 95\n",
    "# Net = np.array([[7.5, 6.2], [8.3, 7.0]])\n",
    "# Sky = np.array([[4.5, 5.3], [3.2, 4.0]])\n",
    "# my_game = nash.Game(Net, Sky)\n",
    "# print(my_game)"
   ]
  },
  {
   "cell_type": "code",
   "execution_count": 5,
   "id": "ae9c6e14-29a5-4020-a8b1-b2e15d86ba31",
   "metadata": {},
   "outputs": [
    {
     "name": "stdout",
     "output_type": "stream",
     "text": [
      "Bi matrix game with payoff matrices:\n",
      "\n",
      "Row player:\n",
      "[[2 4]\n",
      " [3 2]]\n",
      "\n",
      "Column player:\n",
      "[[0 2]\n",
      " [4 3]]\n",
      "\n",
      "Equilíbrio de Nash (support_enumeration method):\n",
      "(array([1., 0.]), array([0., 1.]))\n",
      "(array([0., 1.]), array([1., 0.]))\n",
      "(array([0.33333333, 0.66666667]), array([0.66666667, 0.33333333]))\n"
     ]
    }
   ],
   "source": [
    "# Estratégias Mistas - Nicho de Mercado - Pág. 87\n",
    "F1 = np.array([[2, 4], [3, 2]])\n",
    "F2 = np.array([[0, 2], [4, 3]])\n",
    "my_game = nash.Game(F1, F2)\n",
    "print(my_game)\n",
    "\n",
    "print(\"\\nEquilíbrio de Nash (support_enumeration method):\")\n",
    "equilibria = my_game.support_enumeration()\n",
    "for eq in equilibria:\n",
    "    print(eq)\n"
   ]
  },
  {
   "cell_type": "code",
   "execution_count": null,
   "id": "e0982541-4eee-49fa-a8db-d8adf54cdd48",
   "metadata": {},
   "outputs": [],
   "source": []
  },
  {
   "cell_type": "code",
   "execution_count": null,
   "id": "15432cc6-73a5-494c-8fe3-083695f76561",
   "metadata": {},
   "outputs": [],
   "source": []
  },
  {
   "cell_type": "code",
   "execution_count": null,
   "id": "8bc169af-272f-4a7f-a32a-953bf7339f9a",
   "metadata": {},
   "outputs": [],
   "source": []
  }
 ],
 "metadata": {
  "kernelspec": {
   "display_name": "Python 3 (ipykernel)",
   "language": "python",
   "name": "python3"
  },
  "language_info": {
   "codemirror_mode": {
    "name": "ipython",
    "version": 3
   },
   "file_extension": ".py",
   "mimetype": "text/x-python",
   "name": "python",
   "nbconvert_exporter": "python",
   "pygments_lexer": "ipython3",
   "version": "3.10.6"
  }
 },
 "nbformat": 4,
 "nbformat_minor": 5
}
