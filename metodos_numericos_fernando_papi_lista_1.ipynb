{
 "cells": [
  {
   "cell_type": "code",
   "execution_count": 3,
   "id": "e4991c92-aee0-4ac8-9055-b76a248301e8",
   "metadata": {
    "tags": []
   },
   "outputs": [
    {
     "ename": "ModuleNotFoundError",
     "evalue": "No module named 'pandas'",
     "output_type": "error",
     "traceback": [
      "\u001b[0;31m---------------------------------------------------------------------------\u001b[0m",
      "\u001b[0;31mModuleNotFoundError\u001b[0m                       Traceback (most recent call last)",
      "Cell \u001b[0;32mIn[3], line 1\u001b[0m\n\u001b[0;32m----> 1\u001b[0m \u001b[38;5;28;01mimport\u001b[39;00m \u001b[38;5;21;01mpandas\u001b[39;00m \u001b[38;5;28;01mas\u001b[39;00m \u001b[38;5;21;01mpd\u001b[39;00m\n\u001b[1;32m      2\u001b[0m \u001b[38;5;28;01mimport\u001b[39;00m \u001b[38;5;21;01mtabulate\u001b[39;00m \n",
      "\u001b[0;31mModuleNotFoundError\u001b[0m: No module named 'pandas'"
     ]
    }
   ],
   "source": [
    "import pandas as pd\n",
    "import tabulate "
   ]
  },
  {
   "cell_type": "code",
   "execution_count": 2,
   "id": "8f473563-3152-430e-adcf-79ccf0db449c",
   "metadata": {
    "tags": []
   },
   "outputs": [],
   "source": [
    "def bisection_method(f, xa, xb, error, i=0):\n",
    "    \n",
    "    if f(xb) < f(xa):\n",
    "        xa,xb = xb,xa\n",
    "    \n",
    "    df = pd.DataFrame(columns=['xa', 'xb', 'xc', 'f_xc', 'n_xa', 'n_xb'])\n",
    "    \n",
    "    i+=1\n",
    "    nxa = xa\n",
    "    nxb = xb\n",
    "    \n",
    "    xc = 0.5*(xa+xb)\n",
    "    f_xc = f(xc)\n",
    "    \n",
    "    \n",
    "    if f_xc < 0:\n",
    "        nxa = xc\n",
    "    else:\n",
    "        nxb = xc\n",
    "    \n",
    "    # print_line(i, xa, xb, xc, f_xc, nxa, nxb)\n",
    "    print(tabulate(df))\n",
    "    if abs(f_xc) < error:\n",
    "        return xc\n",
    "\n",
    "    return bisection_method(f, nxa, nxb, error=1e-3, i=i)"
   ]
  },
  {
   "cell_type": "markdown",
   "id": "c97254b6-c987-45b7-bed0-de3e2aefa36e",
   "metadata": {},
   "source": [
    "## 1. Determine, pelo método da dicotomia, a raiz da função f(x) = x³ − x² − 1 com uma precisão de 3 casas decimais"
   ]
  },
  {
   "cell_type": "code",
   "execution_count": 4,
   "id": "e4a08e09-a483-44ac-8aab-a28942337965",
   "metadata": {
    "tags": []
   },
   "outputs": [
    {
     "name": "stdout",
     "output_type": "stream",
     "text": [
      "^C\n"
     ]
    }
   ],
   "source": [
    "! poetry add pandas\n"
   ]
  },
  {
   "cell_type": "code",
   "execution_count": null,
   "id": "1052c4f3-88ee-4de4-b9bf-64c5864bdad4",
   "metadata": {},
   "outputs": [],
   "source": []
  },
  {
   "cell_type": "code",
   "execution_count": null,
   "id": "f2e0efc9-fad3-4a3a-a479-266ecd9e16f2",
   "metadata": {},
   "outputs": [],
   "source": []
  }
 ],
 "metadata": {
  "kernelspec": {
   "display_name": "Python 3 (ipykernel)",
   "language": "python",
   "name": "python3"
  },
  "language_info": {
   "codemirror_mode": {
    "name": "ipython",
    "version": 3
   },
   "file_extension": ".py",
   "mimetype": "text/x-python",
   "name": "python",
   "nbconvert_exporter": "python",
   "pygments_lexer": "ipython3",
   "version": "3.8.10"
  }
 },
 "nbformat": 4,
 "nbformat_minor": 5
}
