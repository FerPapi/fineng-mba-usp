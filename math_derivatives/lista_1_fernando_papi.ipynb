{
 "cells": [
  {
   "cell_type": "markdown",
   "id": "2602336f-d23f-4190-bd2b-efc1fe461a0b",
   "metadata": {},
   "source": [
    "#### Aluno: Fernando Gomes Papi"
   ]
  },
  {
   "cell_type": "markdown",
   "id": "c25a736e-be85-4f40-8cbe-808eb5007c63",
   "metadata": {},
   "source": [
    "$$\n",
    "N(x) = \\frac{1}{\\sqrt{2\\pi}} \\int_{-\\infty}^x{e^{-u^2/2} du}\n",
    "$$\n",
    "\\\n",
    "$$\n",
    "\\lim_{x\\to -\\infty} N(x) = 0\n",
    "$$\n",
    "\\\n",
    "$$\n",
    "\\lim_{x\\to +\\infty} N(x) = 1\n",
    "$$"
   ]
  },
  {
   "cell_type": "code",
   "execution_count": null,
   "id": "02faba27-a642-4c5f-94b2-6b65a339bf27",
   "metadata": {},
   "outputs": [],
   "source": []
  }
 ],
 "metadata": {
  "kernelspec": {
   "display_name": "Python 3 (ipykernel)",
   "language": "python",
   "name": "python3"
  },
  "language_info": {
   "codemirror_mode": {
    "name": "ipython",
    "version": 3
   },
   "file_extension": ".py",
   "mimetype": "text/x-python",
   "name": "python",
   "nbconvert_exporter": "python",
   "pygments_lexer": "ipython3",
   "version": "3.10.12"
  }
 },
 "nbformat": 4,
 "nbformat_minor": 5
}
