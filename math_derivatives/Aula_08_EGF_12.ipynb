{
 "cells": [
  {
   "cell_type": "markdown",
   "metadata": {
    "id": "aWUnM8brncoh"
   },
   "source": [
    "# Método de Monte Carlo"
   ]
  },
  {
   "cell_type": "code",
   "execution_count": 3,
   "metadata": {
    "id": "YFWevpgfMMCT"
   },
   "outputs": [],
   "source": [
    "import numpy as np\n",
    "import pandas as pd\n",
    "import matplotlib.pyplot as py\n",
    "import finoptions as fo\n",
    "import warnings\n",
    "warnings.filterwarnings('ignore')"
   ]
  },
  {
   "cell_type": "markdown",
   "metadata": {
    "id": "gADtGcc5nN8A"
   },
   "source": [
    "## Opções Européias"
   ]
  },
  {
   "cell_type": "code",
   "execution_count": 4,
   "metadata": {
    "id": "QANq4xYim0b2"
   },
   "outputs": [
    {
     "name": "stdout",
     "output_type": "stream",
     "text": [
      "MMC:  3.8862620201843336\n",
      "B&S:  3.8826838282197933\n"
     ]
    }
   ],
   "source": [
    "# Simulação Monte Carlo - Opções Europeias tipo Call\n",
    "S0 = 50\n",
    "K = 49\n",
    "sigma = 0.3\n",
    "T=3/12\n",
    "N=10 #N=1\n",
    "tt = T/N\n",
    "r = 0.06\n",
    "M=1000000\n",
    "z =  np.random.normal(loc=0, scale=1, size=(N, M))\n",
    "S = S0 * np.exp(np.cumsum((r-0.5*sigma**2)*tt\n",
    "+ sigma * np.sqrt(tt) * z, axis=0))\n",
    "S_T = S[-1]\n",
    "V_T = np.maximum(S_T-K,0)\n",
    "V_price_MC = np.mean(np.exp(-r*T)*V_T)\n",
    "# Compara com B&S\n",
    "opt1_BS = fo.BlackScholesOption(S0,K,T,r,r,sigma)\n",
    "V_price_BS = opt1_BS.call()\n",
    "print(\"MMC: \",V_price_MC)\n",
    "print(\"B&S: \",V_price_BS)"
   ]
  },
  {
   "cell_type": "markdown",
   "metadata": {
    "id": "5-WdCXB0uHcS"
   },
   "source": [
    "## Opções Americanas\n",
    "\n"
   ]
  },
  {
   "cell_type": "code",
   "execution_count": 5,
   "metadata": {
    "id": "sg2B0DXuuNOM"
   },
   "outputs": [
    {
     "name": "stdout",
     "output_type": "stream",
     "text": [
      "LSM:  7.575188263694922\n",
      "CRR:  7.477208328936235\n",
      "BAW:  7.496568454380279\n"
     ]
    }
   ],
   "source": [
    "# Simulação Monte Carlo - Opções Americanas tipo PUT (Método Longstaff & Schwartz)\n",
    "S0 = 50\n",
    "K = 52\n",
    "sigma = 0.3\n",
    "r = 0.05\n",
    "M=100000\n",
    "T=2\n",
    "N =200\n",
    "tt = T / N\n",
    "disc = np.exp(-r * tt)\n",
    "# Simulações das trajetórias de preço do ativo objeto\n",
    "z =  np.random.normal(loc=0, scale=1, size=(N, M))\n",
    "S = S0 * np.exp(np.cumsum((r-0.5*sigma**2)*tt\n",
    "+ sigma * np.sqrt(tt) * z, axis=0))\n",
    "S[0] = S0\n",
    "# PUT Americana\n",
    "Exer = np.maximum(K - S, 0)\n",
    "# Valor no vencimento\n",
    "V = Exer[-1] #V_T, mas será utilizada recursivamente\n",
    "for t in range(N - 1, 0, -1):\n",
    "    idx = Exer[t]>0\n",
    "    coefs = np.polyfit(S[t,idx], V[idx]*disc, 5)\n",
    "    f = np.polyval(coefs, S[t,idx])\n",
    "    V[idx] = np.where(Exer[t,idx] > f, Exer[t,idx], V[idx]*disc)\n",
    "V_price_LSM = disc * np.mean(V)\n",
    "# Compara com CRR\n",
    "opt1_CRR = fo.binomial_tree_options.CRRBinomialTreeOption(S0,K,T,r,r,sigma,'american',N)\n",
    "V_price_CRR = opt1_CRR.put()\n",
    "opt2_BAW = fo.basic_american_options.BAWAmericanApproxOption(S0, K, T, r, r, sigma)\n",
    "V_price_BAW = opt2_BAW.put()\n",
    "print(\"LSM: \",V_price_LSM)\n",
    "print(\"CRR: \",V_price_CRR)\n",
    "print(\"BAW: \",V_price_BAW)"
   ]
  },
  {
   "cell_type": "code",
   "execution_count": null,
   "metadata": {},
   "outputs": [],
   "source": []
  },
  {
   "cell_type": "code",
   "execution_count": null,
   "metadata": {},
   "outputs": [],
   "source": []
  }
 ],
 "metadata": {
  "colab": {
   "provenance": []
  },
  "kernelspec": {
   "display_name": "Python 3 (ipykernel)",
   "language": "python",
   "name": "python3"
  },
  "language_info": {
   "codemirror_mode": {
    "name": "ipython",
    "version": 3
   },
   "file_extension": ".py",
   "mimetype": "text/x-python",
   "name": "python",
   "nbconvert_exporter": "python",
   "pygments_lexer": "ipython3",
   "version": "3.10.6"
  }
 },
 "nbformat": 4,
 "nbformat_minor": 4
}
