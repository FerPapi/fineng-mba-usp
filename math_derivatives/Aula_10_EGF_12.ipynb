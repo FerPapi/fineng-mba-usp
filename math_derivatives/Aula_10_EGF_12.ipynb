{
 "cells": [
  {
   "cell_type": "markdown",
   "metadata": {
    "id": "aWUnM8brncoh"
   },
   "source": [
    "# Biblioteca QuantLib - Colab em revisão\n",
    "\n",
    "Veja: https://www.quantlib.org/docs.shtml\n",
    "\n"
   ]
  },
  {
   "cell_type": "code",
   "execution_count": 1,
   "metadata": {
    "id": "YFWevpgfMMCT"
   },
   "outputs": [
    {
     "name": "stdout",
     "output_type": "stream",
     "text": [
      "Collecting QuantLib\n",
      "  Obtaining dependency information for QuantLib from https://files.pythonhosted.org/packages/04/0c/7b5d362cb326cf5590402c50be1d4e8dbda6fb713050f1b29e2aa03af475/QuantLib-1.32-cp310-cp310-macosx_11_0_arm64.whl.metadata\n",
      "  Downloading QuantLib-1.32-cp310-cp310-macosx_11_0_arm64.whl.metadata (1.1 kB)\n",
      "Downloading QuantLib-1.32-cp310-cp310-macosx_11_0_arm64.whl (15.1 MB)\n",
      "\u001b[2K   \u001b[38;2;114;156;31m━━━━━━━━━━━━━━━━━━━━━━━━━━━━━━━━━━━━━━━━\u001b[0m \u001b[32m15.1/15.1 MB\u001b[0m \u001b[31m5.5 MB/s\u001b[0m eta \u001b[36m0:00:00\u001b[0mm eta \u001b[36m0:00:01\u001b[0m[36m0:00:01\u001b[0m\n",
      "\u001b[?25hInstalling collected packages: QuantLib\n",
      "Successfully installed QuantLib-1.32\n",
      "\n",
      "\u001b[1m[\u001b[0m\u001b[34;49mnotice\u001b[0m\u001b[1;39;49m]\u001b[0m\u001b[39;49m A new release of pip is available: \u001b[0m\u001b[31;49m23.2.1\u001b[0m\u001b[39;49m -> \u001b[0m\u001b[32;49m23.3.2\u001b[0m\n",
      "\u001b[1m[\u001b[0m\u001b[34;49mnotice\u001b[0m\u001b[1;39;49m]\u001b[0m\u001b[39;49m To update, run: \u001b[0m\u001b[32;49mpip install --upgrade pip\u001b[0m\n"
     ]
    }
   ],
   "source": [
    "import numpy as np\n",
    "import pandas as pd\n",
    "import matplotlib.pyplot as py\n",
    "!pip install QuantLib\n",
    "import QuantLib as ql\n",
    "import warnings\n",
    "warnings.filterwarnings('ignore')"
   ]
  },
  {
   "cell_type": "markdown",
   "metadata": {
    "id": "gADtGcc5nN8A"
   },
   "source": [
    "## Exemplo de Opções Europeias"
   ]
  },
  {
   "cell_type": "code",
   "execution_count": null,
   "metadata": {
    "id": "_B0MLJRfLh90"
   },
   "outputs": [],
   "source": [
    "hoje = ql.Date(1, 3, 2023)\n",
    "vencimento = ql.Date(31, 5, 2023)\n",
    "#ql.SimpleDayCounter().yearFraction(hoje, vencimento)\n",
    "ql.Settings.instance().evaluationDate =  hoje\n",
    "opt_tipo = ql.Option.Call\n",
    "\n",
    "dc = ql.SimpleDayCounter()  #distâncias em meses completos são retornadas como uma fração simples,\n",
    "                            #ou seja, 1 ano = 1,0; 6 meses = 0,5; 3 meses = 0,25 e assim por diante.\n",
    "calendar = ql.NullCalendar() #Ignora feriados - utilizado para reproduzir resultados teóricos\n",
    "\n",
    "# Veja também, por exemplo:\n",
    "#calendar = ql.Brazil(ql.Brazil.Settlement) #Settlement: calendário genérico de liquidação; Exchange: calendário BOVESPA\n",
    "#dc = ql.Business252(calendar)\n",
    "\n",
    "S0 = 50 #preço atual do ativo objeto\n",
    "K = 49 #Strike\n",
    "r = 0.06 #Taxa de juros livre de risco\n",
    "sigma = 0.3 #volatilidade\n",
    "d =  0.0 #rendimento de dividendos\n"
   ]
  },
  {
   "cell_type": "code",
   "execution_count": null,
   "metadata": {
    "id": "0vl6-rhtT1Lu"
   },
   "outputs": [],
   "source": [
    "european_exercise = ql.EuropeanExercise(vencimento) #Nas européias, o exercício é no vencimento\n",
    "payoff = ql.PlainVanillaPayoff(opt_tipo, K) #Payoff\n",
    "european_option = ql.VanillaOption(payoff, european_exercise) #Opção Vanilla"
   ]
  },
  {
   "cell_type": "code",
   "execution_count": null,
   "metadata": {
    "id": "mP88sY3uDhmi"
   },
   "outputs": [],
   "source": [
    "r_ts = ql.YieldTermStructureHandle(ql.FlatForward(hoje, r, dc)) #Define a entrada de tx de juros\n",
    "sigma_ts = ql.BlackVolTermStructureHandle(ql.BlackConstantVol(hoje, calendar, sigma, dc)) #Define a entrada de volatilidade\n",
    "d_ts = ql.YieldTermStructureHandle(ql.FlatForward(hoje, d, dc)) #Define a entrada de rendimento de dividendos\n",
    "bsm_process = ql.BlackScholesMertonProcess(ql.QuoteHandle(ql.SimpleQuote(S0)), d_ts, r_ts, sigma_ts) #Cria processo BSM com os parâmetros de entrada"
   ]
  },
  {
   "cell_type": "code",
   "execution_count": null,
   "metadata": {
    "id": "hulXn1FGUC9r"
   },
   "outputs": [],
   "source": [
    "BS_greek_dict = {} #Cria um dicionário para apresentar as gregas do modelo BSM\n",
    "Eur_pricing_dict = {} #Cria um dicionário para apresentar as respostas de precificação\n",
    "\n",
    "bsm = ql.AnalyticEuropeanEngine(bsm_process) #Define o método analalítico\n",
    "european_option.setPricingEngine(bsm) #Aplica o método analítico para resolver\n",
    "Eur_pricing_dict['BlackScholesEuropean'] = european_option.NPV() #net present value\n",
    "\n",
    "BS_greek_dict['Delta'] = european_option.delta()\n",
    "BS_greek_dict['Gamma'] = european_option.gamma()\n",
    "BS_greek_dict['Vega'] = european_option.vega()\n",
    "BS_greek_dict['Theta'] = european_option.theta()\n",
    "BS_greek_dict['Rho'] = european_option.rho()\n",
    "print(BS_greek_dict)\n",
    "\n",
    "# Compara com árvore CRR\n",
    "crr_engine = ql.BinomialVanillaEngine(bsm_process, \"crr\", 100) #Define o método CCR com 100 dicretizações\n",
    "european_option.setPricingEngine(crr_engine) #Aplica o método CRR para resolver\n",
    "Eur_pricing_dict['CRR'] = european_option.NPV()\n",
    "print(Eur_pricing_dict)\n"
   ]
  },
  {
   "cell_type": "markdown",
   "metadata": {
    "id": "fWTb8EDZCct2"
   },
   "source": [
    "### Exemplo utilizando o modelo de Heston\n",
    "\n",
    "O modelo de Heston é uma forma alternativa para avaliar opções. Sua principal característica é a incorporação de um termo de volatilidade estocástica. Ele consiste em dois movimentos Brownianos correlacionados:\n",
    "\n",
    "$$dS_t = \\mu S_t dt + \\sqrt{v_t} S_t dW_{1,t}$$\n",
    "\n",
    "$$dv_t = \\kappa(\\theta - v_t) dt + \\xi \\sqrt{v_t} dW_{2,t}$$\n",
    "\n",
    "A primeira equação representa a evolução do preço do ativo objeto. Já a segunda, representa a evolução da variância instantânea, sendo:\n",
    "\n",
    "\n",
    "*   $\\theta$: termo médio de $v_t$;\n",
    "*   $\\kappa$: velocidade de reversão;\n",
    "*   $\\mu$: taxa de retorno de longo prazo;\n",
    "*   $\\xi$: \"volatilidade da volatilidade\";\n",
    "*   $W_{1,t}$: processos de Wiener que governa $S_t$;\n",
    "*   $W_{2,t}$: processos de Wiener que governa $v_t$.\n",
    "\n",
    "A correlação entre $W_{1,t}$ e $W_{2,t}$ é dada por $\\rho$.\n",
    "\n",
    "Link do artigo: https://academic.oup.com/rfs/article-abstract/6/2/327/1574747?redirectedFrom=fulltext\n",
    "\n",
    "\n",
    "\n"
   ]
  },
  {
   "cell_type": "code",
   "execution_count": null,
   "metadata": {
    "id": "rloKNHkBCeJQ"
   },
   "outputs": [],
   "source": [
    "v0 = sigma**2 # variância inicial\n",
    "kappa = 0.1\n",
    "theta = v0\n",
    "xi = 0.1\n",
    "rho = -0.75\n",
    "# OBS: tais parâmetros precisam ser calibrados\n",
    "\n",
    "hest_process = ql.HestonProcess(r_ts, d_ts, ql.QuoteHandle(ql.SimpleQuote(S0)), v0, kappa, theta, xi, rho)\n",
    "hest_engine = ql.AnalyticHestonEngine(ql.HestonModel(hest_process))\n",
    "european_option.setPricingEngine(hest_engine)\n",
    "hest_price = european_option.NPV()\n",
    "Eur_pricing_dict['Heston'] = european_option.NPV()\n",
    "print(Eur_pricing_dict)"
   ]
  },
  {
   "cell_type": "markdown",
   "metadata": {
    "id": "ARGfnW8Ed_E0"
   },
   "source": [
    "## Exemplo de Opções Americanas"
   ]
  },
  {
   "cell_type": "code",
   "execution_count": null,
   "metadata": {
    "id": "MoCce92g53fq"
   },
   "outputs": [],
   "source": [
    "hoje = ql.Date(1, 1, 2022)\n",
    "vencimento = ql.Date(31, 12, 2023)\n",
    "#ql.SimpleDayCounter().yearFraction(hoje, vencimento)\n",
    "ql.Settings.instance().evaluationDate =  hoje\n",
    "opt_tipo = ql.Option.Put\n",
    "\n",
    "dc = ql.SimpleDayCounter()  #distâncias em meses completos são retornadas como uma fração simples,\n",
    "                            #ou seja, 1 ano = 1,0; 6 meses = 0,5; 3 meses = 0,25 e assim por diante.\n",
    "calendar = ql.NullCalendar() #Ignora feriados - utilizado para reproduzir resultados teóricos\n",
    "\n",
    "S0 = 50 #preço atual do ativo objeto\n",
    "K = 52 #Strike\n",
    "r = 0.05 #Taxa de juros livre de risco\n",
    "sigma = 0.3 #volatilidade\n",
    "d =  0.0 #rendimento de dividendos"
   ]
  },
  {
   "cell_type": "code",
   "execution_count": null,
   "metadata": {
    "id": "BZ0POcmQdzUF"
   },
   "outputs": [],
   "source": [
    "american_exercise = ql.AmericanExercise(hoje, vencimento) #O exercício pode occorer entre hoje e o vencimento\n",
    "payoff = ql.PlainVanillaPayoff(opt_tipo, K) #Payoff\n",
    "american_option = ql.VanillaOption(payoff, american_exercise) #Payoff"
   ]
  },
  {
   "cell_type": "code",
   "execution_count": null,
   "metadata": {
    "id": "s445DHhv9Nxk"
   },
   "outputs": [],
   "source": [
    "r_ts = ql.YieldTermStructureHandle(ql.FlatForward(hoje, r, dc)) #Define a entrada de tx de juros\n",
    "sigma_ts = ql.BlackVolTermStructureHandle(ql.BlackConstantVol(hoje, calendar, sigma, dc)) #Define a entrada de volatilidade\n",
    "d_ts = ql.YieldTermStructureHandle(ql.FlatForward(hoje, d, dc)) #Define a entrada de rendimento de dividendos\n",
    "bsm_process = ql.BlackScholesMertonProcess(ql.QuoteHandle(ql.SimpleQuote(S0)), d_ts, r_ts, sigma_ts) #Cria processo BSM com os parâmetros de entrada"
   ]
  },
  {
   "cell_type": "code",
   "execution_count": null,
   "metadata": {
    "id": "cB1HzuXMd3oM"
   },
   "outputs": [],
   "source": [
    "Ame_pricing_dict = {} #Cria um dicionário para apresentar as respostas de precificação\n",
    "\n",
    "#Método de Monte Carlo\n",
    "N = 200\n",
    "rng = \"pseudorandom\"\n",
    "M = 100000\n",
    "MC_engine = ql.MCAmericanEngine(bsm_process, rng, N, requiredSamples=M)\n",
    "american_option.setPricingEngine(MC_engine)\n",
    "Ame_pricing_dict['MCApproximation'] = american_option.NPV()\n",
    "\n",
    "#Método das Diferenças Finitas\n",
    "fd_engine = ql.FdBlackScholesVanillaEngine(bsm_process)\n",
    "american_option.setPricingEngine(fd_engine)\n",
    "Ame_pricing_dict['FiniteDifference'] = american_option.NPV()\n",
    "\n",
    "#Método CRR\n",
    "crr_engine = ql.BinomialVanillaEngine(bsm_process, \"crr\", 100) #Define o método CCR com 100 dicretizações\n",
    "american_option.setPricingEngine(crr_engine) #Aplica o método CRR para resolver\n",
    "Ame_pricing_dict['CRR'] = american_option.NPV()\n",
    "print(Ame_pricing_dict)\n",
    "\n",
    "# Para outros engines, veja: https://quantlib-python-docs.readthedocs.io/en/latest/pricing_engines/options.html"
   ]
  }
 ],
 "metadata": {
  "colab": {
   "provenance": []
  },
  "kernelspec": {
   "display_name": "Python 3 (ipykernel)",
   "language": "python",
   "name": "python3"
  },
  "language_info": {
   "codemirror_mode": {
    "name": "ipython",
    "version": 3
   },
   "file_extension": ".py",
   "mimetype": "text/x-python",
   "name": "python",
   "nbconvert_exporter": "python",
   "pygments_lexer": "ipython3",
   "version": "3.10.12"
  }
 },
 "nbformat": 4,
 "nbformat_minor": 4
}
