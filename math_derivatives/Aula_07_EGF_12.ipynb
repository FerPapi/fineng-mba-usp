{
 "cells": [
  {
   "cell_type": "markdown",
   "metadata": {
    "id": "QhPGOQk6h8tG"
   },
   "source": [
    "#Aula 2 - Volatilidade\n",
    "\n"
   ]
  },
  {
   "cell_type": "code",
   "execution_count": 1,
   "metadata": {
    "id": "Y-w35WHkSo48"
   },
   "outputs": [
    {
     "name": "stdout",
     "output_type": "stream",
     "text": [
      "Collecting py_vollib\n",
      "  Downloading py_vollib-1.0.1.tar.gz (19 kB)\n",
      "  Installing build dependencies ... \u001b[?25ldone\n",
      "\u001b[?25h  Getting requirements to build wheel ... \u001b[?25ldone\n",
      "\u001b[?25h  Preparing metadata (pyproject.toml) ... \u001b[?25ldone\n",
      "\u001b[?25hCollecting py-lets-be-rational (from py_vollib)\n",
      "  Downloading py_lets_be_rational-1.0.1.tar.gz (18 kB)\n",
      "  Installing build dependencies ... \u001b[?25ldone\n",
      "\u001b[?25h  Getting requirements to build wheel ... \u001b[?25ldone\n",
      "\u001b[?25h  Preparing metadata (pyproject.toml) ... \u001b[?25ldone\n",
      "\u001b[?25hCollecting simplejson (from py_vollib)\n",
      "  Obtaining dependency information for simplejson from https://files.pythonhosted.org/packages/49/7d/94ba3f8c2b83a7536f9f62f23246e071eae15c83b5e4d9bd8a165b7f70a6/simplejson-3.19.2-cp310-cp310-macosx_11_0_arm64.whl.metadata\n",
      "  Downloading simplejson-3.19.2-cp310-cp310-macosx_11_0_arm64.whl.metadata (3.1 kB)\n",
      "Requirement already satisfied: numpy in /Users/ferpapi/Library/Caches/pypoetry/virtualenvs/mbausp-RNhzuBv6-py3.10/lib/python3.10/site-packages (from py_vollib) (1.23.4)\n",
      "Requirement already satisfied: pandas in /Users/ferpapi/Library/Caches/pypoetry/virtualenvs/mbausp-RNhzuBv6-py3.10/lib/python3.10/site-packages (from py_vollib) (1.5.3)\n",
      "Requirement already satisfied: scipy in /Users/ferpapi/Library/Caches/pypoetry/virtualenvs/mbausp-RNhzuBv6-py3.10/lib/python3.10/site-packages (from py_vollib) (1.10.1)\n",
      "Requirement already satisfied: python-dateutil>=2.8.1 in /Users/ferpapi/Library/Caches/pypoetry/virtualenvs/mbausp-RNhzuBv6-py3.10/lib/python3.10/site-packages (from pandas->py_vollib) (2.8.2)\n",
      "Requirement already satisfied: pytz>=2020.1 in /Users/ferpapi/Library/Caches/pypoetry/virtualenvs/mbausp-RNhzuBv6-py3.10/lib/python3.10/site-packages (from pandas->py_vollib) (2023.3.post1)\n",
      "Requirement already satisfied: six>=1.5 in /Users/ferpapi/Library/Caches/pypoetry/virtualenvs/mbausp-RNhzuBv6-py3.10/lib/python3.10/site-packages (from python-dateutil>=2.8.1->pandas->py_vollib) (1.16.0)\n",
      "Using cached simplejson-3.19.2-cp310-cp310-macosx_11_0_arm64.whl (75 kB)\n",
      "Building wheels for collected packages: py_vollib, py-lets-be-rational\n",
      "  Building wheel for py_vollib (pyproject.toml) ... \u001b[?25ldone\n",
      "\u001b[?25h  Created wheel for py_vollib: filename=py_vollib-1.0.1-py3-none-any.whl size=62829 sha256=774e76704c197998506d5fa3b0fdf3de96055327d29d15c1909b58ac94a82019\n",
      "  Stored in directory: /Users/ferpapi/Library/Caches/pip/wheels/84/0c/fc/b68506eda40cccaeb0013be550ba904d253ec90eae2b156052\n",
      "  Building wheel for py-lets-be-rational (pyproject.toml) ... \u001b[?25ldone\n",
      "\u001b[?25h  Created wheel for py-lets-be-rational: filename=py_lets_be_rational-1.0.1-py3-none-any.whl size=24453 sha256=9b559fdbdc2842526a68ab84e2802054c5b150ba41213090503ec1ef4e709695\n",
      "  Stored in directory: /Users/ferpapi/Library/Caches/pip/wheels/32/d9/4f/360d4b0b9ec7c65583ec7c8e72fd2158c97ad04fbcb932891c\n",
      "Successfully built py_vollib py-lets-be-rational\n",
      "Installing collected packages: simplejson, py-lets-be-rational, py_vollib\n",
      "Successfully installed py-lets-be-rational-1.0.1 py_vollib-1.0.1 simplejson-3.19.2\n",
      "\n",
      "\u001b[1m[\u001b[0m\u001b[34;49mnotice\u001b[0m\u001b[1;39;49m]\u001b[0m\u001b[39;49m A new release of pip is available: \u001b[0m\u001b[31;49m23.2.1\u001b[0m\u001b[39;49m -> \u001b[0m\u001b[32;49m23.3.2\u001b[0m\n",
      "\u001b[1m[\u001b[0m\u001b[34;49mnotice\u001b[0m\u001b[1;39;49m]\u001b[0m\u001b[39;49m To update, run: \u001b[0m\u001b[32;49mpip install --upgrade pip\u001b[0m\n"
     ]
    }
   ],
   "source": [
    "#Importação e instalação de pacotes\n",
    "import numpy as np\n",
    "import pandas as pd\n",
    "import matplotlib.pyplot as py\n",
    "from scipy.stats import norm\n",
    "!pip install py_vollib\n",
    "import py_vollib\n",
    "import warnings\n",
    "warnings.filterwarnings('ignore')\n"
   ]
  },
  {
   "cell_type": "markdown",
   "metadata": {
    "id": "bCoJGhIb6vpc"
   },
   "source": [
    "##Gregas\n",
    "Fonte: https://github.com/vollib/py_vollib"
   ]
  },
  {
   "cell_type": "code",
   "execution_count": 2,
   "metadata": {
    "id": "BtHDm3qs6jo4"
   },
   "outputs": [
    {
     "data": {
      "text/plain": [
       "array([ 3.88268761,  0.62159964,  0.0507018 ,  0.09506588, -0.02009806,\n",
       "        0.06799324])"
      ]
     },
     "execution_count": 2,
     "metadata": {},
     "output_type": "execute_result"
    }
   ],
   "source": [
    "from py_vollib.black_scholes  import black_scholes as bs\n",
    "from py_vollib.black_scholes.greeks.analytical import delta\n",
    "from py_vollib.black_scholes.greeks.analytical import gamma\n",
    "from py_vollib.black_scholes.greeks.analytical import rho\n",
    "from py_vollib.black_scholes.greeks.analytical import theta\n",
    "from py_vollib.black_scholes.greeks.analytical import vega\n",
    "\n",
    "def greek_val(flag, S, K, t, r, sigma):\n",
    "    price = bs(flag, S, K, t, r, sigma)\n",
    "    delta_calc = delta(flag, S, K, t, r, sigma)\n",
    "    gamma_calc = gamma(flag, S, K, t, r, sigma)\n",
    "    rho_calc = rho(flag, S, K, t, r, sigma)\n",
    "    theta_calc = theta(flag, S, K, t, r, sigma)\n",
    "    vega_calc = vega(flag, S, K, t, r, sigma)\n",
    "    return np.array([price, delta_calc, gamma_calc, vega_calc, theta_calc, rho_calc])\n",
    "\n",
    "#Exemplo call\n",
    "S = 50; K = 49; sigma = 0.3; T=3/12; r = 0.06\n",
    "\n",
    "call=greek_val('c', S, K, T, r, sigma)\n",
    "call"
   ]
  },
  {
   "cell_type": "markdown",
   "metadata": {
    "id": "m7LGIZ5A8r-1"
   },
   "source": [
    "##Volatilidade Implícita"
   ]
  },
  {
   "cell_type": "markdown",
   "metadata": {
    "id": "0Y9zwgKJ81Ew"
   },
   "source": [
    "Busca manual"
   ]
  },
  {
   "cell_type": "code",
   "execution_count": null,
   "metadata": {
    "id": "zvw5Rv_Ud9SB"
   },
   "outputs": [],
   "source": [
    "# Call Vanilla Europeia - B&S\n",
    "def bs_call(S0, K, T, r, vol):\n",
    "    d1 = (np.log(S0/K) + (r + 0.5*vol**2)*T) / (vol*np.sqrt(T))\n",
    "    d2 = d1 - vol * np.sqrt(T)\n",
    "    return S0 * norm.cdf(d1) - np.exp(-r * T) * K * norm.cdf(d2)\n",
    "\n",
    "# Put Vanilla Europeia - B&S\n",
    "def bs_put(S0, K, T, r, vol):\n",
    "    d1 = (np.log(S0/K) + (r + 0.5*vol**2)*T) / (vol*np.sqrt(T))\n",
    "    d2 = d1 - vol * np.sqrt(T)\n",
    "    return np.exp(-r * T) * norm.cdf(-d2) * K - S0 * norm.cdf(-d1)\n",
    "\n",
    "S0=11.36; K=9.21; r = 0.1165; T = 27/252\n",
    "vol = 0.3 # Ajustar manualmente para casar o valor da opção\n",
    "K=np.array([9.21, 9.91, 10.91, 12.91, 14.16, 15.66, 17.91]);\n",
    "bs_call(S0, K, T, r, vol)\n",
    "# Precisa ajusta individualente para cada valor de K"
   ]
  },
  {
   "cell_type": "markdown",
   "metadata": {
    "id": "OJp-cbaFEI1d"
   },
   "source": [
    "Busca por dicotomia"
   ]
  },
  {
   "cell_type": "code",
   "execution_count": null,
   "metadata": {
    "id": "smqpcBcm6Kxy"
   },
   "outputs": [],
   "source": [
    "def busca_vol_imp(preço_alvo, S, K, T, r):\n",
    "    max_iter = 200\n",
    "    precisao = 1.0e-5\n",
    "    vol_imp = np.zeros(len(K))\n",
    "    for j in range(0,len(K)):\n",
    "        a=0 # inicio do intervalo\n",
    "        b=5 # fim do intervalo\n",
    "        vol_imp[j] = (a+b)/2\n",
    "        for i in range(0, max_iter):\n",
    "            price = bs_call(S, K[j], T, r, vol_imp[j])\n",
    "            diff = preço_alvo[j] - price\n",
    "            if (abs(diff) < precisao):\n",
    "                break\n",
    "            if diff < 0:\n",
    "                a,b = a,vol_imp[j]\n",
    "            elif diff > 0:\n",
    "                a,b = vol_imp[j],b\n",
    "            vol_imp[j] =(a+b)/2\n",
    "    return vol_imp\n",
    "\n",
    "S=11.36; K=np.array([9.21, 9.91, 10.91, 12.91, 14.16, 15.66, 17.91]); r = 0.1165; vol = 0.3; T = 27/252\n",
    "V_market = np.array([2.46, 1.85, 1.09, 0.38, 0.19, 0.09, 0.03])\n",
    "imp_vol = busca_vol_imp(V_market, S, K, T, r)\n",
    "py.plot(V_market, imp_vol)\n",
    "py.show\n",
    "imp_vol"
   ]
  },
  {
   "cell_type": "markdown",
   "metadata": {
    "id": "sCLaE_OYEOn6"
   },
   "source": [
    "Busca com pacote py_vollib"
   ]
  },
  {
   "cell_type": "code",
   "execution_count": null,
   "metadata": {
    "id": "UqOJ3UIZZZZI"
   },
   "outputs": [],
   "source": [
    "from py_vollib.black_scholes.implied_volatility import implied_volatility as iv\n",
    "\n",
    "S=11.36; K=np.array([9.21, 9.91, 10.91, 12.91, 14.16, 15.66, 17.91]); r = 0.1165; vol = 0.3; T = 27/252\n",
    "V_market = np.array([2.46, 1.85, 1.09, 0.38, 0.19, 0.09, 0.03])\n",
    "vol_imp = np.zeros(len(K))\n",
    "\n",
    "for j in range(0, len(K)):\n",
    "    vol_imp[j] = iv(V_market[j], S, K[j], T, r, 'c')\n",
    "\n",
    "py.plot(V_market, vol_imp)\n",
    "py.title(\"Vol. Implícita\")\n",
    "py.xlabel(\"Prêmio\")\n",
    "py.ylabel(\"Vol\");\n",
    "py.show\n",
    "imp_vol"
   ]
  }
 ],
 "metadata": {
  "colab": {
   "gpuType": "T4",
   "provenance": []
  },
  "kernelspec": {
   "display_name": "Python 3 (ipykernel)",
   "language": "python",
   "name": "python3"
  },
  "language_info": {
   "codemirror_mode": {
    "name": "ipython",
    "version": 3
   },
   "file_extension": ".py",
   "mimetype": "text/x-python",
   "name": "python",
   "nbconvert_exporter": "python",
   "pygments_lexer": "ipython3",
   "version": "3.10.6"
  }
 },
 "nbformat": 4,
 "nbformat_minor": 4
}
