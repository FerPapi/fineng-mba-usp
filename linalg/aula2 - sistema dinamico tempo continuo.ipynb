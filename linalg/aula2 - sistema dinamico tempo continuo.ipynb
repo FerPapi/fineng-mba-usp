{
 "cells": [
  {
   "cell_type": "code",
   "execution_count": 25,
   "metadata": {},
   "outputs": [
    {
     "name": "stdout",
     "output_type": "stream",
     "text": [
      "Latitude: -23.5770045\n",
      "Longitude: -46.6713086\n"
     ]
    }
   ],
   "source": [
    "import requests\n",
    "\n",
    "def geocode_address(rua,cidade, numero, cep):\n",
    "    \n",
    "    url = \"https://nominatim.openstreetmap.org/search\"\n",
    "\n",
    "    try:\n",
    "        params = {\n",
    "        \"q\": f'{rua} {numero} - {cep} - {cidade}',\n",
    "        \"format\": \"json\",\n",
    "    }\n",
    "        response = requests.get(url, params=params, verify=False)\n",
    "        response.raise_for_status()\n",
    "\n",
    "        data = response.json()\n",
    "\n",
    "        if data:\n",
    "            latitude = float(data[-1][\"lat\"])\n",
    "            longitude = float(data[-1][\"lon\"])\n",
    "            a,b= latitude, longitude\n",
    "        else:\n",
    "            a,b= None,None\n",
    "\n",
    "    except:\n",
    "        try:\n",
    "            params = {\n",
    "        \"q\": f'{rua} {numero} - {cidade}',\n",
    "        \"format\": \"json\",\n",
    "    }\n",
    "            response = requests.get(url, params=params, verify=False)\n",
    "            response.raise_for_status()\n",
    "\n",
    "            data = response.json()\n",
    "\n",
    "            if data:\n",
    "                latitude = float(data[-1][\"lat\"])\n",
    "                longitude = float(data[-1][\"lon\"])\n",
    "                a,b= latitude, longitude\n",
    "            else:\n",
    "                a,b= None,None\n",
    "        except:\n",
    "            a,b= None,None\n",
    "    return a,b\n",
    "\n",
    "# Example usage\n",
    "address = \"Av São gabriel, 626 - 01435000 - sao paulo, Brasil\"\n",
    "result = geocode_address(address)\n",
    "if result:\n",
    "    latitude, longitude = result\n",
    "    print(\"Latitude:\", latitude)\n",
    "    print(\"Longitude:\", longitude)\n",
    "else:\n",
    "    print(\"Geocoding failed.\")"
   ]
  }
 ],
 "metadata": {
  "kernelspec": {
   "display_name": "Python 3 (ipykernel)",
   "language": "python",
   "name": "python3"
  },
  "language_info": {
   "codemirror_mode": {
    "name": "ipython",
    "version": 3
   },
   "file_extension": ".py",
   "mimetype": "text/x-python",
   "name": "python",
   "nbconvert_exporter": "python",
   "pygments_lexer": "ipython3",
   "version": "3.8.10"
  }
 },
 "nbformat": 4,
 "nbformat_minor": 4
}
