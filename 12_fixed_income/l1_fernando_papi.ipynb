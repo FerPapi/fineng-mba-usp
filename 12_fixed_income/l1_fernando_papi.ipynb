{
 "cells": [
  {
   "cell_type": "code",
   "execution_count": 52,
   "id": "ec4b9280-6d53-4a1e-9897-a32d5ab6f0dd",
   "metadata": {},
   "outputs": [],
   "source": [
    "import numpy as np"
   ]
  },
  {
   "cell_type": "code",
   "execution_count": 53,
   "id": "5156c48e-8fca-4d54-9a5e-b08eb2d79d71",
   "metadata": {},
   "outputs": [
    {
     "data": {
      "text/plain": [
       "106.0000000098079"
      ]
     },
     "execution_count": 53,
     "metadata": {},
     "output_type": "execute_result"
    }
   ],
   "source": [
    "Fi = 0.09*100\n",
    "Fn = 100*(1+0.09)\n",
    "n = 5\n",
    "# ytm = 0.08\n",
    "ytm = 0.07516366863512966\n",
    "P_dirty = sum([Fi/(1+ytm)**i for i in range(1,n)]) + Fn/(1+ytm)**n\n",
    "P_dirty"
   ]
  },
  {
   "cell_type": "code",
   "execution_count": 54,
   "id": "4d4d824f-17c7-4918-bff4-bdfee6cf3684",
   "metadata": {},
   "outputs": [],
   "source": [
    "#P_clean = P_dirty - C*(t-T1)/(T2-T1)"
   ]
  },
  {
   "cell_type": "code",
   "execution_count": 64,
   "id": "27ebd5ff-4d1e-4d09-a6bc-def25e973dc3",
   "metadata": {},
   "outputs": [
    {
     "name": "stdout",
     "output_type": "stream",
     "text": [
      "1 & 0.120 & 0.067 & 0.227 \\\\\n",
      "2 & 0.067 & 0.070 & 0.000 \\\\\n",
      "3 & 0.070 & 0.070 & -0.000 \\\\\n"
     ]
    },
    {
     "data": {
      "text/plain": [
       "0.06962260509551509"
      ]
     },
     "execution_count": 64,
     "metadata": {},
     "output_type": "execute_result"
    }
   ],
   "source": [
    "from scipy.optimize import newton\n",
    "\n",
    "C = 0.1/2\n",
    "fv = 100\n",
    "# ytm = 0.08\n",
    "n = 1\n",
    "P = 103\n",
    "\n",
    "def newton_raphson(x, f, df, i=0):\n",
    "    i += 1\n",
    "    x1 = x - f(x)/df(x)\n",
    "    \n",
    "    print(f\"{int(i)} & {x:.3f} & {x1:.3f} & {f(x1):.3f} \\\\\\\\\")\n",
    "    if abs(f(x1)) <= 1e-6:\n",
    "        return x1\n",
    "    \n",
    "    return newton_raphson(x1, f, df, i)\n",
    "\n",
    "def f(x):\n",
    "    Fi = fv*C\n",
    "    Fn = fv*(1+C)\n",
    "    \n",
    "    y = sum([Fi/(1+x)**i for i in np.arange(0.5, n ,0.5)]) + Fn/(1+x)**n - P\n",
    "    \n",
    "    return y\n",
    "\n",
    "def df(x):\n",
    "    return (f(x + 0.1/100) - f(x))/(0.1/100)\n",
    "\n",
    "# def equation_to_solve(ytm):\n",
    "#     Fi = fv*C\n",
    "#     Fn = fv*(1+C)\n",
    "#     y = sum([Fi/(1+ytm)**i for i in range(1,n)]) + Fn/(1+ytm)**n - P\n",
    "#     return y\n",
    "    \n",
    "ytm = newton_raphson(0.12, f, df)\n",
    "ytm"
   ]
  },
  {
   "cell_type": "code",
   "execution_count": 62,
   "id": "12f3421a-b161-412d-ba43-a29c91bb882c",
   "metadata": {},
   "outputs": [
    {
     "data": {
      "text/plain": [
       "array([0.5, 1. ])"
      ]
     },
     "execution_count": 62,
     "metadata": {},
     "output_type": "execute_result"
    }
   ],
   "source": [
    "np.arange(0.5,n+0.5,0.5)"
   ]
  },
  {
   "cell_type": "code",
   "execution_count": null,
   "id": "0d7b2401-7f7c-4f6f-afe2-4a27740fb503",
   "metadata": {},
   "outputs": [],
   "source": [
    "from datetime import datetime"
   ]
  },
  {
   "cell_type": "code",
   "execution_count": 90,
   "id": "8ecd357d-e3c9-4816-8df1-1e32d4e9f59e",
   "metadata": {},
   "outputs": [
    {
     "name": "stdout",
     "output_type": "stream",
     "text": [
      "dirty_coupon_delta 0.8162717663406202\n",
      "n_days_start, n_days_end 368 311\n",
      "pu_sujo_start, pu_sujo_end 98988.12142542895 99024.77104647728\n",
      "pnl = -4797443.90\n"
     ]
    }
   ],
   "source": [
    "cdi_acumulado = 1.0066172800000\n",
    "ptax_end = 5.2651\n",
    "ptax_start = 4.2695\n",
    "linear_rate_dirty = 1/100\n",
    "adjust_rate = 1.14/100\n",
    "q = 100\n",
    "M = 0.5\n",
    "\n",
    "dirty_coupon_delta = cdi_acumulado * (1/(ptax_end/ptax_start))\n",
    "print('dirty_coupon_delta', dirty_coupon_delta)\n",
    "\n",
    "base_date = pd.to_datetime('2021/01/04').date()\n",
    "n_days_end = (base_date - pd.to_datetime('2020/02/28').date()).days\n",
    "n_days_start = (base_date - pd.to_datetime('2020/01/02').date()).days\n",
    "\n",
    "print('n_days_start, n_days_end', n_days_start, n_days_end)\n",
    "\n",
    "pu_sujo_start = 100_000/(1+linear_rate_dirty*n_days_start/360)\n",
    "pu_sujo_end = 100_000/(1+adjust_rate*n_days_end/360)\n",
    "\n",
    "print('pu_sujo_start, pu_sujo_end', pu_sujo_start, pu_sujo_end)\n",
    "\n",
    "pnl = -q * (pu_sujo_end - pu_sujo_start*dirty_coupon_delta) * ptax_end  *M\n",
    "print(f\"{pnl = :.2f}\")"
   ]
  },
  {
   "cell_type": "code",
   "execution_count": 91,
   "id": "b35d0009-5f39-436f-9f37-0645738eb5fe",
   "metadata": {},
   "outputs": [
    {
     "name": "stdout",
     "output_type": "stream",
     "text": [
      "dirty_coupon_delta 0.9063332576137078\n",
      "n_days_start, n_days_end 374 317\n",
      "pu_sujo_start, pu_sujo_end 97468.52578854744 98816.61612379744\n",
      "pnl = -2345107.54\n"
     ]
    }
   ],
   "source": [
    "cdi_acumulado = 1.0065522600000\n",
    "ptax_end = 4.4764\n",
    "ptax_start = 4.0307\n",
    "linear_rate_dirty = 2.5/100\n",
    "adjust_rate = 1.36/100\n",
    "q = 100\n",
    "M = 0.5\n",
    "\n",
    "dirty_coupon_delta = cdi_acumulado * (1/(ptax_end/ptax_start))\n",
    "print('dirty_coupon_delta', dirty_coupon_delta)\n",
    "\n",
    "base_date = pd.to_datetime('2021/01/04').date()\n",
    "n_days_end = (base_date - pd.to_datetime('2020/02/28').date()).days\n",
    "n_days_start = (base_date - pd.to_datetime('2020/01/02').date()).days\n",
    "\n",
    "print('n_days_start, n_days_end', n_days_start, n_days_end)\n",
    "\n",
    "pu_sujo_start = 100_000/(1+linear_rate_dirty*n_days_start/360)\n",
    "pu_sujo_end = 100_000/(1+adjust_rate*n_days_end/360)\n",
    "\n",
    "print('pu_sujo_start, pu_sujo_end', pu_sujo_start, pu_sujo_end)\n",
    "\n",
    "pnl = -q * (pu_sujo_end - pu_sujo_start*dirty_coupon_delta) * ptax_end  *M\n",
    "print(f\"{pnl = :.2f}\")"
   ]
  },
  {
   "cell_type": "code",
   "execution_count": null,
   "id": "4ef2e81e-8068-4ec7-8055-ff9ccbabdb62",
   "metadata": {},
   "outputs": [],
   "source": []
  },
  {
   "cell_type": "code",
   "execution_count": 65,
   "id": "a4e40505-7fb4-4554-8788-d05ebdc04c4f",
   "metadata": {},
   "outputs": [
    {
     "ename": "ValueError",
     "evalue": "Excel file format cannot be determined, you must specify an engine manually.",
     "output_type": "error",
     "traceback": [
      "\u001b[0;31m---------------------------------------------------------------------------\u001b[0m",
      "\u001b[0;31mValueError\u001b[0m                                Traceback (most recent call last)",
      "Cell \u001b[0;32mIn[65], line 3\u001b[0m\n\u001b[1;32m      1\u001b[0m \u001b[38;5;28;01mimport\u001b[39;00m \u001b[38;5;21;01mpandas\u001b[39;00m \u001b[38;5;28;01mas\u001b[39;00m \u001b[38;5;21;01mpd\u001b[39;00m\n\u001b[0;32m----> 3\u001b[0m \u001b[43mpd\u001b[49m\u001b[38;5;241;43m.\u001b[39;49m\u001b[43mread_excel\u001b[49m\u001b[43m(\u001b[49m\u001b[38;5;124;43m'\u001b[39;49m\u001b[38;5;124;43m./DadosparaprovaFull052024/cdi cetip.xls\u001b[39;49m\u001b[38;5;124;43m'\u001b[39;49m\u001b[43m)\u001b[49m\n",
      "File \u001b[0;32m~/.cache/pypoetry/virtualenvs/mbausp-h6Bsrd_o-py3.10/lib/python3.10/site-packages/pandas/io/excel/_base.py:478\u001b[0m, in \u001b[0;36mread_excel\u001b[0;34m(io, sheet_name, header, names, index_col, usecols, dtype, engine, converters, true_values, false_values, skiprows, nrows, na_values, keep_default_na, na_filter, verbose, parse_dates, date_parser, date_format, thousands, decimal, comment, skipfooter, storage_options, dtype_backend)\u001b[0m\n\u001b[1;32m    476\u001b[0m \u001b[38;5;28;01mif\u001b[39;00m \u001b[38;5;129;01mnot\u001b[39;00m \u001b[38;5;28misinstance\u001b[39m(io, ExcelFile):\n\u001b[1;32m    477\u001b[0m     should_close \u001b[38;5;241m=\u001b[39m \u001b[38;5;28;01mTrue\u001b[39;00m\n\u001b[0;32m--> 478\u001b[0m     io \u001b[38;5;241m=\u001b[39m \u001b[43mExcelFile\u001b[49m\u001b[43m(\u001b[49m\u001b[43mio\u001b[49m\u001b[43m,\u001b[49m\u001b[43m \u001b[49m\u001b[43mstorage_options\u001b[49m\u001b[38;5;241;43m=\u001b[39;49m\u001b[43mstorage_options\u001b[49m\u001b[43m,\u001b[49m\u001b[43m \u001b[49m\u001b[43mengine\u001b[49m\u001b[38;5;241;43m=\u001b[39;49m\u001b[43mengine\u001b[49m\u001b[43m)\u001b[49m\n\u001b[1;32m    479\u001b[0m \u001b[38;5;28;01melif\u001b[39;00m engine \u001b[38;5;129;01mand\u001b[39;00m engine \u001b[38;5;241m!=\u001b[39m io\u001b[38;5;241m.\u001b[39mengine:\n\u001b[1;32m    480\u001b[0m     \u001b[38;5;28;01mraise\u001b[39;00m \u001b[38;5;167;01mValueError\u001b[39;00m(\n\u001b[1;32m    481\u001b[0m         \u001b[38;5;124m\"\u001b[39m\u001b[38;5;124mEngine should not be specified when passing \u001b[39m\u001b[38;5;124m\"\u001b[39m\n\u001b[1;32m    482\u001b[0m         \u001b[38;5;124m\"\u001b[39m\u001b[38;5;124man ExcelFile - ExcelFile already has the engine set\u001b[39m\u001b[38;5;124m\"\u001b[39m\n\u001b[1;32m    483\u001b[0m     )\n",
      "File \u001b[0;32m~/.cache/pypoetry/virtualenvs/mbausp-h6Bsrd_o-py3.10/lib/python3.10/site-packages/pandas/io/excel/_base.py:1500\u001b[0m, in \u001b[0;36mExcelFile.__init__\u001b[0;34m(self, path_or_buffer, engine, storage_options)\u001b[0m\n\u001b[1;32m   1496\u001b[0m     ext \u001b[38;5;241m=\u001b[39m inspect_excel_format(\n\u001b[1;32m   1497\u001b[0m         content_or_path\u001b[38;5;241m=\u001b[39mpath_or_buffer, storage_options\u001b[38;5;241m=\u001b[39mstorage_options\n\u001b[1;32m   1498\u001b[0m     )\n\u001b[1;32m   1499\u001b[0m     \u001b[38;5;28;01mif\u001b[39;00m ext \u001b[38;5;129;01mis\u001b[39;00m \u001b[38;5;28;01mNone\u001b[39;00m:\n\u001b[0;32m-> 1500\u001b[0m         \u001b[38;5;28;01mraise\u001b[39;00m \u001b[38;5;167;01mValueError\u001b[39;00m(\n\u001b[1;32m   1501\u001b[0m             \u001b[38;5;124m\"\u001b[39m\u001b[38;5;124mExcel file format cannot be determined, you must specify \u001b[39m\u001b[38;5;124m\"\u001b[39m\n\u001b[1;32m   1502\u001b[0m             \u001b[38;5;124m\"\u001b[39m\u001b[38;5;124man engine manually.\u001b[39m\u001b[38;5;124m\"\u001b[39m\n\u001b[1;32m   1503\u001b[0m         )\n\u001b[1;32m   1505\u001b[0m engine \u001b[38;5;241m=\u001b[39m config\u001b[38;5;241m.\u001b[39mget_option(\u001b[38;5;124mf\u001b[39m\u001b[38;5;124m\"\u001b[39m\u001b[38;5;124mio.excel.\u001b[39m\u001b[38;5;132;01m{\u001b[39;00mext\u001b[38;5;132;01m}\u001b[39;00m\u001b[38;5;124m.reader\u001b[39m\u001b[38;5;124m\"\u001b[39m, silent\u001b[38;5;241m=\u001b[39m\u001b[38;5;28;01mTrue\u001b[39;00m)\n\u001b[1;32m   1506\u001b[0m \u001b[38;5;28;01mif\u001b[39;00m engine \u001b[38;5;241m==\u001b[39m \u001b[38;5;124m\"\u001b[39m\u001b[38;5;124mauto\u001b[39m\u001b[38;5;124m\"\u001b[39m:\n",
      "\u001b[0;31mValueError\u001b[0m: Excel file format cannot be determined, you must specify an engine manually."
     ]
    }
   ],
   "source": [
    "import pandas as pd\n",
    "\n",
    "pd.read_excel('./DadosparaprovaFull052024/cdi cetip.xls', engine)"
   ]
  },
  {
   "cell_type": "code",
   "execution_count": null,
   "id": "30aace3e-dc3a-4bf5-a4db-ffd2aeeb3d51",
   "metadata": {},
   "outputs": [],
   "source": []
  }
 ],
 "metadata": {
  "kernelspec": {
   "display_name": "Python 3 (ipykernel)",
   "language": "python",
   "name": "python3"
  },
  "language_info": {
   "codemirror_mode": {
    "name": "ipython",
    "version": 3
   },
   "file_extension": ".py",
   "mimetype": "text/x-python",
   "name": "python",
   "nbconvert_exporter": "python",
   "pygments_lexer": "ipython3",
   "version": "3.10.12"
  }
 },
 "nbformat": 4,
 "nbformat_minor": 5
}
