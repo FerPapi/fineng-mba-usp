{
 "cells": [
  {
   "cell_type": "code",
   "execution_count": 2,
   "id": "7a250396",
   "metadata": {
    "tags": []
   },
   "outputs": [],
   "source": [
    "import numpy as np\n",
    "from IPython.display import display, Image\n",
    "float_formatter = \"{:.3f}\".format\n",
    "np.set_printoptions(formatter={'float_kind':float_formatter})"
   ]
  },
  {
   "cell_type": "markdown",
   "id": "1619340d",
   "metadata": {},
   "source": [
    "### 1a Questão: \n",
    "Um prisioneiro está preso em uma cela com 3 portas.\n",
    "A primeira porta leva a um túnel que, após 8 dias, retorna ao ponto inicial. A segunda porta leva a um túnel que, após 6 dias, leva à liberdade. A terceira porta leva a um túnel que, após 10 dias, retorna ao ponto inicial.\n"
   ]
  },
  {
   "cell_type": "markdown",
   "id": "0f204d75",
   "metadata": {},
   "source": [
    "#### a) (Sem memória) \n",
    "\n",
    "Suponha que o prisioneiro sempre escolhe as portas 1, 2 e 3 com probabilidades 1/3, 1/3 e 1/3 respectivamente, e seja X o número de dias até o prisioneiro alcançar a liberdade. Determine E(X) e Var(X)\n",
    "\n",
    "#### R.: \n",
    "Seja N uma variável aleatória que indica a porta escolhida. Como para as portas 1 e 3, se escolhidas, retornamos ao ponto inicial, temos que:\n",
    "\n",
    "$E[X | N = 1] = 8 + E[X]$ \\\n",
    "$E[X | N = 2] = 6$ \\\n",
    "$E[X | N = 3] = 10 + E[X]$ \n",
    "\n",
    "Portanto o valor esperado de X, $E[X]$ é:\n",
    "\n",
    "$E[X] = \\frac{1}{3}*(8 + E[X]) + \\frac{1}{3}*6 + \\frac{1}{3}*(10 + E[X]) = \\frac{24}{3} + \\frac{2E[X]}{3} \\implies E[X] = 24$\n",
    "\n",
    "e\n",
    "\n",
    "$Var(X) = E[X^2] - E[X]^2$\n",
    "\n",
    "$E[X^2 | N = 1] = E[(8 + X)^2] = 64 + 16E[X] + E[X^2] = 64 + 16*24 + E[X]^2 \\implies 448 + E[X^2]$ \\\n",
    "$E[X^2 | N = 2] = 36$ \\\n",
    "$E[X^2 | N = 3] = E[(10 + X)^2] = 100 + 20E[X] + E[X^2] = 100 + 20*24 + E[X^2] \\implies 580 + E[X^2]$\n",
    "\n",
    "$\\implies E[X^2] = \\frac{1}{3}*(448 + E[X^2]) + \\frac{1}{3}*(36) + \\frac{1}{3}*(580 + E[X^2]) = \\frac{1}{3}*(1064 + 2E[X^2]) \\implies E[X^2] = 1064$ \\\n",
    "$\\implies VAR(X) = 1064 - (24)^2 = 488$ "
   ]
  },
  {
   "cell_type": "markdown",
   "id": "1e2a31ae",
   "metadata": {},
   "source": [
    "#### a) (Com memória) \n",
    "Repita o item a), assumindo agora que o prisioneiro é igualmente provável de escolher uma das portas que ele não tenha escolhido anteriormente.\n",
    "\n",
    "#### R.: \n",
    "Seja N uma variável aleatória que indica a porta escolhida. Como para as portas 1 e 3, se escolhidas, retornamos ao ponto inicial mas nesse caso, não são selecionadas novamente, temos que:\n",
    "\n",
    "$E[X | N = 1] = 8 + \\frac{1}{2}*(6) + \\frac{1}{2}*(10 + 6) = 19$ \\\n",
    "$E[X | N = 2] = 6$ \\\n",
    "$E[X | N = 3] = 10 + \\frac{1}{2}*(6) + \\frac{1}{2}*(8 + 6) = 20$ \n",
    "\n",
    "Portanto o valor esperado de X, $E[X]$ é:\n",
    "\n",
    "$E[X] = \\frac{1}{3}*(19) + \\frac{1}{3}*6 + \\frac{1}{3}*(20) = 15$\n",
    "\n",
    "e\n",
    "\n",
    "$Var(X) = E[X^2] - E[X]^2$\n",
    "\n",
    "Para calcular $E[X^2]$, temos:\n",
    "\n",
    "$E[X^2 | N = 2] = 36$\n",
    "\n",
    "$E[X^2 | N = 1] = E[(8 + X_1)^2] = E[64 + 16X_1 + X_1^2] = 64 + 16E[X_1] + E[X_1^2]$ \\\n",
    "onde \\\n",
    "$E[X_1] =  \\frac{1}{2}*6 + \\frac{1}{2}*(10 + 6) = 11$ \\\n",
    "$E[X_1^2] = \\frac{1}{2}*(10^2 + 6^2) = 68$ \\\n",
    "$\\implies E[X^2 | N = 1] = 64 + 16*11 + 68 = 308$\n",
    "\n",
    "e\n",
    "\n",
    "$E[X^2 | N = 3] = E[(10 + X_3)^2] = E[100 + 20X_3 + X_3^2] = 100 + 20E[X_3] + E[X_3^2]$ \\\n",
    "onde \\\n",
    "$E[X_3] =  \\frac{1}{2}*(6) + \\frac{1}{2}*(8 + 6) = 10$ \\\n",
    "$E[X_3^2] = \\frac{1}{2}*(8^2 + 6^2) = 50$ \\\n",
    "$\\implies E[X^2 | N = 3] = 100 + 20*10 + 50 = 350$\n",
    "\n",
    "portanto\n",
    "\n",
    "$E[X^2] = \\frac{1}{3}(36 + 308 + 350) = \\frac{694}{3}$ \\\n",
    "$VAR(X) = \\frac{694}{3} - (15)^2 = \\frac{19}{3} = 6.33$\n",
    "\n",
    "\n"
   ]
  },
  {
   "cell_type": "markdown",
   "id": "7934e650",
   "metadata": {
    "tags": []
   },
   "source": [
    "### 2a Questão: \n",
    "Uma moeda com probabilidade p = 1/4 de dar cara é jogada até que ocorram 2 caras consecutivas. Seja N o número de jogadas até que isso ocorra. Determine o valor esperado E(N)."
   ]
  },
  {
   "cell_type": "code",
   "execution_count": 32,
   "id": "a8a46748",
   "metadata": {
    "tags": []
   },
   "outputs": [
    {
     "data": {
      "text/plain": [
       "matrix([[20.000],\n",
       "        [16.000]])"
      ]
     },
     "execution_count": 32,
     "metadata": {},
     "output_type": "execute_result"
    }
   ],
   "source": [
    "P = np.matrix([[3/4, 1/4, 0],\n",
    "               [3/4, 0, 1/4],\n",
    "               [0, 0, 1]])\n",
    "\n",
    "T= np.matrix([[3/4, 1/4],\n",
    "               [3/4, 0]])\n",
    "\n",
    "(np.identity(2)-T)**-1*np.array([[1,1]]).T"
   ]
  },
  {
   "cell_type": "markdown",
   "id": "6470c2ca",
   "metadata": {
    "tags": []
   },
   "source": [
    "R.: Podemos definir o sistema para uma variável X, sendo X o número de caras consecutivas, como uma cadeia de markov com matriz de transição P, já na forma canônica:"
   ]
  },
  {
   "cell_type": "code",
   "execution_count": 33,
   "id": "f30451d8",
   "metadata": {
    "tags": []
   },
   "outputs": [],
   "source": [
    "#display(Image(filename=\"./prob/markov2.png\", height=600, width=600))"
   ]
  },
  {
   "cell_type": "markdown",
   "id": "00992e33",
   "metadata": {},
   "source": [
    "$\n",
    "P = \n",
    "\\left(\\begin{array}{cc}\n",
    "3/4 & 1/4 & 0\\\\\n",
    "3/4 & 0 & 1/4\\\\\n",
    "0 & 0 & 1\n",
    "\\end{array}\\right)\n",
    "$\n",
    "\n",
    "do tipo\n",
    "\n",
    "$\n",
    "P = \n",
    "\\left(\\begin{array}{c|c} \n",
    "T & A\\\\\n",
    "\\hline\n",
    "0 & I\n",
    "\\end{array}\\right)\n",
    "$\n",
    "\n",
    "Onde Q é a matrix dos estados transientes\n",
    "\n",
    "$\n",
    "T = \n",
    "\\left(\\begin{array}{cc} \n",
    "3/4 & 1/4\\\\\n",
    "3/4 & 0\\\\\n",
    "\\end{array}\\right)\n",
    "$\n",
    "\n",
    "N, chamada de matrix fundamental de P, é definida por $N = (I - T)^{-1}$, :\n",
    "\n",
    "$\n",
    "N = \n",
    "\\left(\\begin{array}{cc} \n",
    "16 & 4\\\\\n",
    "12 & 4\\\\\n",
    "\\end{array}\\right)\n",
    "$\n",
    "\n",
    "E o número de passos dados para os estados absorventes (nesse caso apenas o último) a partir de cada estado transiente $i$ é a $i_{th}$ linha de $N*{1}$, onde $1$ é um vetor unitário $i_\\chi1$\n",
    "\n",
    "Portanto,\n",
    "$$\n",
    "\\left(\\begin{array}{cc} \n",
    "16 & 4\\\\\n",
    "12 & 4\\\\\n",
    "\\end{array}\\right)*\n",
    "\\left(\\begin{array}{cc} \n",
    "1\\\\\n",
    "1\\\\\n",
    "\\end{array}\\right)=\n",
    "\\left(\\begin{array}{cc} \n",
    "20\\\\\n",
    "16\\\\\n",
    "\\end{array}\\right)\n",
    "$$\n",
    "\n",
    "e \n",
    "\n",
    "$E[N] = 20$"
   ]
  },
  {
   "cell_type": "markdown",
   "id": "94b1ffaa",
   "metadata": {},
   "source": [
    "### 3a Questão: \n",
    "Considere um jogo em que o jogador, a cada partida, perde 1 real com probabilidade 2/3, e ganha 2 reais com probabilidade 1/3. Suponha que o jogador comece com 2 reais, e que ele\n",
    "pára de jogar se quebrar ou atingir pelo menos 4 reais."
   ]
  },
  {
   "cell_type": "markdown",
   "id": "fa7c5f3c",
   "metadata": {},
   "source": [
    "#### a) Escreva o diagrama de Markov e determine a matriz de transição da cadeia de Markov.\n",
    "#### R.:\n",
    "Já na forma canônica, temos os estados 1, 2 e 3 (representando o montante do jogador em determinado momento), nas primeiras tres linhas e colunas, como estados transientes, e os montantes 0, 4 e 5 como estados absorventes, nas linhas e colunas 4, 5, 6, respectivamente\n",
    "$$\n",
    "P = \n",
    "\\left(\\begin{array}{ccc|ccc} \n",
    "0 & 0 & 1/3 & 2/3 & 0 & 0\\\\\n",
    "2/3 & 0 & 0 & 0 & 1/3 & 0\\\\\n",
    "0 & 2/3 & 0 & 0 & 0 & 1/3\\\\\n",
    "\\hline\n",
    "0 & 0 & 0 & 1 & 0 & 0\\\\\n",
    "0 & 0 & 0 & 0 & 1 & 0\\\\\n",
    "0 & 0 & 0 & 0 & 0 & 1\\\\\n",
    "\\end{array}\\right)\n",
    "$$"
   ]
  },
  {
   "cell_type": "code",
   "execution_count": 42,
   "id": "2eb7a528",
   "metadata": {
    "tags": []
   },
   "outputs": [
    {
     "data": {
      "image/png": "[encoded data removed]",
      "text/plain": [
       "<IPython.core.display.Image object>"
      ]
     },
     "metadata": {
      "image/png": {
       "height": 600,
       "width": 600
      }
     },
     "output_type": "display_data"
    }
   ],
   "source": [
    "display(Image(filename=\"./prob/markov3a.png\", height=600, width=600))"
   ]
  },
  {
   "cell_type": "markdown",
   "id": "b68da00a",
   "metadata": {},
   "source": [
    "#### b) Qual é a probabilidade de que existam pelo menos 4 partidas?\n",
    "#### R.: \n",
    "\n",
    "A probabilidade de que existam ao menos 4 partidas é dada pela soma da probabilidade dos estados transientes após 3 partidas.\n",
    "\n",
    "Dado um vetor de estado inicial $I_0 = [0, 1, 0, 0, 0, 0]'$, a probabilidade de cada estado após $k$ jogadas é dado por $P_k = I_0*P^k$\n"
   ]
  },
  {
   "cell_type": "code",
   "execution_count": 37,
   "id": "685dec4a",
   "metadata": {
    "tags": []
   },
   "outputs": [
    {
     "data": {
      "text/plain": [
       "matrix([[0.000, 0.148, 0.000, 0.444, 0.333, 0.074]])"
      ]
     },
     "execution_count": 37,
     "metadata": {},
     "output_type": "execute_result"
    }
   ],
   "source": [
    "P = np.matrix([[0, 0, 1/3, 2/3, 0, 0],\n",
    "               [2/3, 0, 0, 0, 1/3, 0],\n",
    "               [0, 2/3, 0, 0, 0, 1/3],\n",
    "               [0, 0, 0, 1, 0, 0],\n",
    "               [0, 0, 0, 0, 1, 0],\n",
    "               [0, 0, 0, 0, 0, 1],])\n",
    "\n",
    "T = np.matrix([[0, 0, 1/3],\n",
    "               [2/3, 0, 0],\n",
    "               [0, 2/3, 0]])\n",
    "\n",
    "A = np.matrix([[2/3, 0, 0],\n",
    "               [0, 1/3, 0],\n",
    "               [0, 0, 1/3]])\n",
    "\n",
    "i = np.array([[0, 1, 0, 0, 0, 0]])\n",
    "i*P**3"
   ]
  },
  {
   "cell_type": "markdown",
   "id": "21d94026",
   "metadata": {},
   "source": [
    "Então\n",
    "\n",
    "$$\n",
    "P_3 = I_0*P^3 = \n",
    "\\left(\\begin{array}{c} \n",
    "0\\\\ \n",
    "0.148\\\\ \n",
    "0\\\\\n",
    "\\hline\n",
    "0.444\\\\ \n",
    "0.333\\\\\n",
    "0.074\\\\\n",
    "\\end{array}\\right)\n",
    "$$\n",
    "\n",
    "Ou seja, há uma probabilidade de 14.8% de haver uma próxima partida a partir da 3a partida"
   ]
  },
  {
   "cell_type": "markdown",
   "id": "1fe58d03",
   "metadata": {},
   "source": [
    "#### c)  Qual é a probabilidade do jogador sair vencedor (ou seja, a fortuna do jogador atingir 4 reais ou mais)?\n",
    "#### R.: \n",
    "\n",
    "A probabilidade é dada pelo regime permanente do sistema,\n"
   ]
  },
  {
   "cell_type": "code",
   "execution_count": 38,
   "id": "7cfd0048",
   "metadata": {
    "tags": []
   },
   "outputs": [
    {
     "name": "stdout",
     "output_type": "stream",
     "text": [
      "---------------------\n",
      "[[0.783 0.087 0.130]]\n",
      "[[0.522 0.391 0.087]]\n",
      "[[0.348 0.261 0.391]]\n",
      "---------------------\n"
     ]
    },
    {
     "data": {
      "text/plain": [
       "0.478"
      ]
     },
     "execution_count": 38,
     "metadata": {},
     "output_type": "execute_result"
    }
   ],
   "source": [
    "from tabulate import tabulate\n",
    "r = (np.identity(3)-T)**-1*A\n",
    "print(tabulate(r))      \n",
    "1 - 0.522"
   ]
  },
  {
   "cell_type": "markdown",
   "id": "f08857d0-5a54-4e46-b70c-31b28e602bd8",
   "metadata": {},
   "source": [
    "#### c) Qual é o valor esperado do número de jogadas até o jogo terminar (com o jogador ganhando ou perdendo) ?"
   ]
  },
  {
   "cell_type": "code",
   "execution_count": 41,
   "id": "27fa7ed6-9ea8-41ae-af37-5fd545ed2083",
   "metadata": {
    "tags": []
   },
   "outputs": [
    {
     "data": {
      "text/plain": [
       "matrix([[1.826],\n",
       "        [2.217],\n",
       "        [2.478]])"
      ]
     },
     "execution_count": 41,
     "metadata": {},
     "output_type": "execute_result"
    }
   ],
   "source": [
    "(np.identity(3)-T)**-1*np.array([[1,1,1]]).T"
   ]
  },
  {
   "cell_type": "markdown",
   "id": "309f6fe6-4638-4f4c-9202-3465f8271010",
   "metadata": {},
   "source": [
    "2.217"
   ]
  },
  {
   "cell_type": "markdown",
   "id": "2c254969-291f-4957-97d1-2dd6b155610c",
   "metadata": {},
   "source": [
    "#### 4 uponha que uma empresa financeira classifique os seus estados de processamento\n",
    "de transações de 0 a 5 de acordo com o tempo necessário para a sua liquidação, segundo o\n",
    "modelo:Estado 0: transação está sem atraso; Estado 1: transação está com 1 dia de atraso;\n",
    "Estado 2: transação está com 2 dias de atraso; Estado 3: transação está com 3 dias de atraso;\n",
    "Estado 4: transação liquidada sem pagamento de multa; Estado 5: transação liquidada com\n",
    "pagamento de multa. A instituição tem uma série de dados no tempo razoável, e esses dados\n",
    "indicam que a cadeia de Markov possui a seguinte matriz de transição P é:"
   ]
  },
  {
   "cell_type": "code",
   "execution_count": 58,
   "id": "d318d93a-c4fc-454a-bdef-b1f23c951487",
   "metadata": {
    "tags": []
   },
   "outputs": [],
   "source": [
    "import numpy as np\n",
    "\n",
    "P = np.matrix([[0, 0.7, 0, 0, 0.3, 0],\n",
    "              [0, 0, 0.7, 0, 0.3, 0],\n",
    "              [0, 0, 0, 0.5, 0.5, 0],\n",
    "              [0, 0, 0, 0, 0.9, 0.1],\n",
    "              [0, 0, 0, 0, 1, 0],\n",
    "              [0, 0, 0, 0, 0, 1]])\n",
    "\n",
    "T = np.matrix([[0, 0.7, 0, 0],\n",
    "              [0, 0, 0.7, 0],\n",
    "              [0, 0, 0, 0.5],\n",
    "              [0, 0, 0, 0]])\n",
    "\n",
    "A = np.matrix([[0.3, 0],\n",
    "               [0.3, 0],\n",
    "               [0.5, 0],\n",
    "               [0.9, 0.1]])"
   ]
  },
  {
   "cell_type": "code",
   "execution_count": 59,
   "id": "1775dcf9-17ad-4d13-ab3a-9a0ec25e887a",
   "metadata": {
    "tags": []
   },
   "outputs": [
    {
     "name": "stdout",
     "output_type": "stream",
     "text": [
      "---------------------------------------\n",
      "[[0.000 0.700 0.000 0.000 0.300 0.000]]\n",
      "[[0.000 0.000 0.700 0.000 0.300 0.000]]\n",
      "[[0.000 0.000 0.000 0.500 0.500 0.000]]\n",
      "[[0.000 0.000 0.000 0.000 0.900 0.100]]\n",
      "[[0.000 0.000 0.000 0.000 1.000 0.000]]\n",
      "[[0.000 0.000 0.000 0.000 0.000 1.000]]\n",
      "---------------------------------------\n"
     ]
    }
   ],
   "source": [
    "print(tabulate(P))"
   ]
  },
  {
   "cell_type": "code",
   "execution_count": 61,
   "id": "cae2877f-1433-4bf5-be69-ef1d705101c8",
   "metadata": {
    "tags": []
   },
   "outputs": [
    {
     "data": {
      "text/plain": [
       "matrix([[0.976, 0.024],\n",
       "        [0.965, 0.035],\n",
       "        [0.950, 0.050],\n",
       "        [0.900, 0.100]])"
      ]
     },
     "execution_count": 61,
     "metadata": {},
     "output_type": "execute_result"
    }
   ],
   "source": [
    "r = (np.identity(4)-T)**-1*A\n",
    "r"
   ]
  },
  {
   "cell_type": "markdown",
   "id": "ea6eb8ba-b79a-4ad1-85d4-cbf2c1f6e774",
   "metadata": {
    "tags": []
   },
   "source": [
    "Se considerarmos que uma transação sempre começa do estado sem atraso (0), então a probabilidade é 2.4%"
   ]
  },
  {
   "cell_type": "code",
   "execution_count": null,
   "id": "9352f2e8-4215-44e3-9381-6ad11c606b7a",
   "metadata": {},
   "outputs": [],
   "source": []
  }
 ],
 "metadata": {
  "kernelspec": {
   "display_name": "Python 3 (ipykernel)",
   "language": "python",
   "name": "python3"
  },
  "language_info": {
   "codemirror_mode": {
    "name": "ipython",
    "version": 3
   },
   "file_extension": ".py",
   "mimetype": "text/x-python",
   "name": "python",
   "nbconvert_exporter": "python",
   "pygments_lexer": "ipython3",
   "version": "3.8.10"
  }
 },
 "nbformat": 4,
 "nbformat_minor": 5
}
