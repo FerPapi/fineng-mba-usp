{
 "cells": [
  {
   "cell_type": "code",
   "execution_count": 2,
   "id": "0873a0d7-c2f8-4f0a-b8e0-1b6d91c5eaf2",
   "metadata": {
    "tags": []
   },
   "outputs": [],
   "source": [
    "from scipy.stats import norm, binom, hypergeom\n",
    "from tabulate import tabulate"
   ]
  },
  {
   "cell_type": "markdown",
   "id": "d4362ddb-7533-4fca-b9d5-c1aeb28b00ff",
   "metadata": {},
   "source": [
    "## Questão 7\n",
    "\n",
    "Temos que $S(t) = S0 ∗ u^{N(t)} ∗ d^{(t−N(t))}$, onde \n",
    "\n",
    "S0 é o valor inicial, \n",
    "\n",
    "$N(t)$ é o número de vezes que a ação subiu no período t, \n",
    "\n",
    "$u$ é o valor que a ação sobe (quando sobe) e \n",
    "\n",
    "$d$ o valor que diminui.\n",
    "\n",
    "A $P(S(t)) = P (N (t) = n)$ é uma variável aleatória $n ∼ Binom(n = t, p = 0.45)$"
   ]
  },
  {
   "cell_type": "markdown",
   "id": "604223a5-383a-4da8-8287-b0c264e89806",
   "metadata": {},
   "source": [
    "### a) Qual é a probabilidade da ação valer mais que seu valor inicial no instante t = 3."
   ]
  },
  {
   "cell_type": "code",
   "execution_count": 3,
   "id": "bc803e17-41f3-4b7a-a68f-71219f95a0a5",
   "metadata": {
    "tags": []
   },
   "outputs": [
    {
     "name": "stdout",
     "output_type": "stream",
     "text": [
      "  Subidas (N(3))    Valor (S(3)=s)    P(s)    Fs(S)\n",
      "----------------  ----------------  ------  -------\n",
      "               0            11.294   0.166    0.166\n",
      "               1            11.871   0.408    0.575\n",
      "               2            12.476   0.334    0.909\n",
      "               3            13.113   0.091    1\n",
      "probabilidade = 42.525%\n"
     ]
    }
   ],
   "source": [
    "# Define as variáveis u, p_u, d, p_d, t e s0\n",
    "u = 0.03         # percentual que a acao sobe\n",
    "p_u = 0.45       # probabilidade de subida\n",
    "d = 0.02         # percentual que a acao desvaloriza\n",
    "p_d = 1 - p_u    # probabilidade de desvalorizacao \n",
    "t = 3            # periodos\n",
    "s0 = 12          # valor inicial\n",
    "\n",
    "# Cria uma lista vazia chamada out_table e uma variável p_final inicializada com 0\n",
    "out_table = [] \n",
    "p_final = 0\n",
    "\n",
    "# Loop que itera pelo número de subidas possíveis (de 0 a t) e calcula o valor provável da ação, a probabilidade de esse valor acontecer,\n",
    "# a distribuição acumulada da probabilidade e adiciona os valores a out_table.\n",
    "# Se o valor da ação for maior que o valor inicial s0, incrementa p_final com a probabilidade de esse valor ocorrer.\n",
    "for numero_subidas in range(t+1):\n",
    "    \n",
    "    # Valor provável da ação\n",
    "    s = s0 * (1+u)**numero_subidas * (1-d)**(t-numero_subidas)\n",
    "    \n",
    "    # Calcula a probabilidade de número_subidas subidas em t períodos e adiciona à lista\n",
    "    p_n = binom.pmf(numero_subidas, t, p_u)\n",
    "    \n",
    "    # Calcula a distribuição acumulada da probabilidade e adiciona à lista\n",
    "    cdf = binom.cdf(numero_subidas, t, p_u)\n",
    "    \n",
    "    # Adiciona os valores a out_table\n",
    "    out_table.append([numero_subidas, round(s,3), round(p_n,3),  round(cdf,3)])\n",
    "    \n",
    "    # Se o valor da ação for maior que s0, incrementa p_final com a probabilidade de esse valor acontecer\n",
    "    if s > s0:\n",
    "        p_final += p_n\n",
    "\n",
    "# Imprime a tabela out_table com os cabeçalhos e o valor de p_final com 3 casas decimais.\n",
    "print(tabulate(out_table, headers=[\"Subidas (N(3))\",\"Valor (S(3)=s)\", \"P(s)\", \"Fs(S)\"]))\n",
    "print(f\"probabilidade = {round(p_final*100,3)}%\")"
   ]
  },
  {
   "cell_type": "markdown",
   "id": "84c5fc6b-3724-4ee0-a61e-af3ec3b72529",
   "metadata": {},
   "source": [
    "### b) Qual é a probabilidade da ação valer mais que R$ 13.00 no instante t = 15 (se preferir, use a planilha excel para resolver esse item)."
   ]
  },
  {
   "cell_type": "code",
   "execution_count": 4,
   "id": "64e54aae-89cb-4095-9566-266703838073",
   "metadata": {
    "tags": []
   },
   "outputs": [
    {
     "name": "stdout",
     "output_type": "stream",
     "text": [
      "  Subidas (N(15))    Valor (S(15)=s)    P(s)    Fs(S)\n",
      "-----------------  -----------------  ------  -------\n",
      "                0             8.8628  0.0001   0.0001\n",
      "                1             9.315   0.0016   0.0017\n",
      "                2             9.7903  0.009    0.0107\n",
      "                3            10.2898  0.0318   0.0424\n",
      "                4            10.8148  0.078    0.1204\n",
      "                5            11.3665  0.1404   0.2608\n",
      "                6            11.9465  0.1914   0.4522\n",
      "                7            12.556   0.2013   0.6535\n",
      "                8            13.1966  0.1647   0.8182\n",
      "                9            13.8699  0.1048   0.9231\n",
      "               10            14.5775  0.0515   0.9745\n",
      "               11            15.3213  0.0191   0.9937\n",
      "               12            16.103   0.0052   0.9989\n",
      "               13            16.9246  0.001    0.9999\n",
      "               14            17.7881  0.0001   1\n",
      "               15            18.6956  0        1\n",
      "probabilidade = 34.65%\n"
     ]
    }
   ],
   "source": [
    "# Definir o número de períodos\n",
    "t = 15\n",
    "\n",
    "# Definir o valor inicial da ação\n",
    "s0 = 12\n",
    "\n",
    "# Definir o objetivo de preço da ação\n",
    "objetivo = 13\n",
    "\n",
    "# Criar uma lista vazia para armazenar as informações de saída\n",
    "out_table = []\n",
    "\n",
    "# Inicializar a probabilidade final\n",
    "p_final = 0\n",
    "\n",
    "# Loop através de cada número de subidas possíveis\n",
    "for numero_subidas in range(t+1):\n",
    "    \n",
    "    # Calcular o valor provável da ação dado o número de subidas\n",
    "    s = s0 * (1+u)**numero_subidas * (1-d)**(t-numero_subidas)\n",
    "    \n",
    "    # Calcular a probabilidade de que a ação suba um determinado número de vezes\n",
    "    p_n = binom.pmf(numero_subidas, t, p_u)\n",
    "    \n",
    "    # Calcular a função de distribuição acumulada (CDF) para a probabilidade\n",
    "    cdf = binom.cdf(numero_subidas, t, p_u)\n",
    "    \n",
    "    # Adicionar os valores atuais à tabela de saída\n",
    "    out_table.append([numero_subidas, round(s,4), round(p_n,4),  round(cdf,4)])\n",
    "    \n",
    "    # Se o valor da ação atual for maior do que o objetivo de preço, adicionar a probabilidade atual à probabilidade final\n",
    "    if s > objetivo :\n",
    "        p_final += p_n\n",
    "\n",
    "# Imprimir a tabela de saída formatada\n",
    "print(tabulate(out_table, headers=[\"Subidas (N(15))\",\"Valor (S(15)=s)\", \"P(s)\", \"Fs(S)\"]))\n",
    "\n",
    "# Imprimir a probabilidade final formatada\n",
    "print(f\"probabilidade = {round(p_final*100,3)}%\")"
   ]
  },
  {
   "cell_type": "markdown",
   "id": "c0db0769-a65f-430d-994f-61aa201ecaa9",
   "metadata": {},
   "source": [
    "## Questão 8"
   ]
  },
  {
   "cell_type": "code",
   "execution_count": 5,
   "id": "b8024430-67f7-4631-92c6-8101014b8e73",
   "metadata": {
    "tags": []
   },
   "outputs": [
    {
     "name": "stdout",
     "output_type": "stream",
     "text": [
      "Probabilidade: 38.44%\n"
     ]
    }
   ],
   "source": [
    "# Definindo os parâmetros do problema\n",
    "x = 1   # número mínimo de peças defeituosas a serem encontradas\n",
    "N = 50  # tamanho do lote de peças\n",
    "k = 6   # número de peças defeituosas no lote\n",
    "n = 5   # número de peças retiradas para inspeção\n",
    "\n",
    "# Calculando a probabilidade de encontrar x peças defeituosas em n retiradas\n",
    "probability = hypergeom.pmf(x, N, k, n)\n",
    "\n",
    "# Imprimindo a probabilidade encontrada\n",
    "print(f\"Probabilidade: {round(probability*100,2)}%\")"
   ]
  },
  {
   "cell_type": "markdown",
   "id": "78039021-de61-4c0e-9a0a-fd8006e0d100",
   "metadata": {},
   "source": [
    "## Questão 9\n",
    "\n",
    "Uma fábrica de carros sabe que os motores de sua fabricação têm duração de acordo com\n",
    "uma distribuição normal \n",
    "\n",
    "com média $μ = 150000 Km$ e \n",
    "\n",
    "desvio-padrão $σ = 5000 km$. \n",
    "\n",
    "Qual é a\n",
    "probabilidade de que um carro qualquer tenha um motor que dure:"
   ]
  },
  {
   "cell_type": "markdown",
   "id": "4785b8f1-b321-4a4f-b651-36a2d55d329c",
   "metadata": {},
   "source": [
    "#### a) Pelo menos 160000 Km?."
   ]
  },
  {
   "cell_type": "code",
   "execution_count": 7,
   "id": "ddb7a4a2-b4b4-483f-b01d-f501ea7bff41",
   "metadata": {
    "tags": []
   },
   "outputs": [
    {
     "name": "stdout",
     "output_type": "stream",
     "text": [
      "P(X ≥ 160000) = 1 - P(X ≤ 160000) = 2.28%\n"
     ]
    }
   ],
   "source": [
    "# Definindo os parâmetros da distribuição normal\n",
    "media = 150000 # média\n",
    "desvio_padrao = 5000 # desvio-padrão\n",
    "\n",
    "# Definindo o valor da variável aleatória X para calcular a probabilidade P(X >= x)\n",
    "x = 160000\n",
    "\n",
    "# Usando a função cdf() da biblioteca norm para calcular a probabilidade P(X <= x)\n",
    "# e subtraindo o resultado de 1 para obter a probabilidade P(X >= x)\n",
    "prob = 1 - norm.cdf(x, media, desvio_padrao)\n",
    "\n",
    "# Imprimindo a probabilidade calculada formatada em porcentagem\n",
    "print(f'P(X ≥ {x}) = 1 - P(X ≤ {x}) = {round(prob*100,2)}%')"
   ]
  },
  {
   "cell_type": "markdown",
   "id": "5e3b269e-2342-419f-9a1c-55c9d0755f0d",
   "metadata": {},
   "source": [
    "#### b) Entre 140000 e 165000 Km?"
   ]
  },
  {
   "cell_type": "code",
   "execution_count": 8,
   "id": "98b4ff5d-386e-4c25-be81-4e06daf3051d",
   "metadata": {
    "tags": []
   },
   "outputs": [
    {
     "name": "stdout",
     "output_type": "stream",
     "text": [
      "P (140000 ≤ X ≤ 160000) = 97.59%\n"
     ]
    }
   ],
   "source": [
    "media = 150000   # média\n",
    "desvio_padrao = 5000   # desvio-padrão\n",
    "x1 = 165000   # valor máximo\n",
    "x2 = 140000   # valor mínimo\n",
    "prob = norm.cdf(x1, media, desvio_padrao) - norm.cdf(x2, media, desvio_padrao)   # calcula a probabilidade\n",
    "print(f'P (140000 ≤ X ≤ 160000) = {round(prob*100,2)}%')   # imprime o resultado formatado"
   ]
  },
  {
   "cell_type": "markdown",
   "id": "b76d9575-4138-4f7e-b83a-852ec25aecdb",
   "metadata": {},
   "source": [
    "### c) Se a fábrica substitui o motor que apresente duração inferior à garantia \n",
    "### qual deve ser a garantia em Km para que a porcentagem de motores substituídos seja inferior à 0.2%?"
   ]
  },
  {
   "cell_type": "code",
   "execution_count": 9,
   "id": "295f091e-85f2-4ee5-96ed-1266a765144f",
   "metadata": {
    "tags": []
   },
   "outputs": [
    {
     "name": "stdout",
     "output_type": "stream",
     "text": [
      "Com Z_score de -2.8782, correspondente a uma garantia de X* ~= 135609 km, \n",
      "a probabilidade de o motor durar pelo menos X* é P(X ≤ X*) = 0.2%\n"
     ]
    }
   ],
   "source": [
    "# Definindo a média e o desvio-padrão da distribuição normal\n",
    "media = 150000\n",
    "desvio_padrao = 5000\n",
    "\n",
    "# Calculando o z-score correspondente a uma probabilidade de 0.2%\n",
    "z_score = norm.ppf(0.2/100)\n",
    "\n",
    "# Calculando a garantia em km correspondente ao z-score encontrado\n",
    "X = z_score * desvio_padrao + media\n",
    "\n",
    "# Exibindo os resultados\n",
    "print(f'''Com Z_score de {round(z_score,4)}, correspondente a uma garantia de X* ~= {int(X)} km, \n",
    "a probabilidade de o motor durar pelo menos X* é P(X ≤ X*) = {round(norm.cdf(X, media, desvio_padrao)*100,5)}%''')\n"
   ]
  },
  {
   "cell_type": "markdown",
   "id": "c5be96aa-6da3-4e22-a93c-a506f01f0762",
   "metadata": {
    "tags": []
   },
   "source": [
    "## Questão 10\n",
    "\n",
    "Uma pessoa decide investir em um título cambial comprando US$ 200.000,00. A taxa de \\\n",
    "câmbio atual real/dólar é 2.0. Suponha que o desvio padrão diário da taxa de câmbio R \\\n",
    "seja 5.0% e que possa ser modelada por uma variável aleatória normal. Qual é a perda \\\n",
    "máxima em real em 1 dia com 95% de chances?"
   ]
  },
  {
   "cell_type": "code",
   "execution_count": 10,
   "id": "ff3e3847-70cf-4463-a2e4-302c336227c3",
   "metadata": {
    "tags": []
   },
   "outputs": [
    {
     "data": {
      "text/plain": [
       "-1.6448536269514729"
      ]
     },
     "execution_count": 10,
     "metadata": {},
     "output_type": "execute_result"
    }
   ],
   "source": [
    "investimento_inicial = 200_000\n",
    "\n",
    "cambio_medio = 2\n",
    "desvio_padrao = 5/100\n",
    "z_score = norm.ppf(0.05)\n",
    "z_score"
   ]
  },
  {
   "cell_type": "code",
   "execution_count": 11,
   "id": "e9c7165d-e2b2-49d0-8ea3-4ae5dfa6765c",
   "metadata": {
    "tags": []
   },
   "outputs": [
    {
     "name": "stdout",
     "output_type": "stream",
     "text": [
      "Mínimo Câmbio: 1.9177573186524264\n",
      "Valor investimento: 383551.4637304853\n",
      "Perda máxima de -16448.54 R$\n"
     ]
    }
   ],
   "source": [
    "cambio_perda_maxima = (z_score * desvio_padrao + cambio_medio)\n",
    "print(f\"Mínimo Câmbio: {cambio_perda_maxima}\")\n",
    "valor_cambio_atualizado = cambio_perda_maxima * investimento_inicial\n",
    "print(f\"Valor investimento: {valor_cambio_atualizado}\")\n",
    "\n",
    "lucro = valor_cambio_atualizado - cambio_medio*investimento_inicial\n",
    "print(f\"Perda máxima de {round(lucro,2)} R$\")"
   ]
  }
 ],
 "metadata": {
  "kernelspec": {
   "display_name": "Python 3 (ipykernel)",
   "language": "python",
   "name": "python3"
  },
  "language_info": {
   "codemirror_mode": {
    "name": "ipython",
    "version": 3
   },
   "file_extension": ".py",
   "mimetype": "text/x-python",
   "name": "python",
   "nbconvert_exporter": "python",
   "pygments_lexer": "ipython3",
   "version": "3.10.6"
  }
 },
 "nbformat": 4,
 "nbformat_minor": 5
}
