{
 "cells": [
  {
   "cell_type": "code",
   "execution_count": 1,
   "id": "0990163f-a03a-447a-b7a5-f8a63f86e211",
   "metadata": {
    "tags": []
   },
   "outputs": [],
   "source": [
    "import pandas as pd\n",
    "from matplotlib import pyplot as plt\n",
    "import seaborn as sns\n",
    "import numpy as np\n",
    "from copy import deepcopy\n",
    "from sklearn.preprocessing import MinMaxScaler \n",
    "from sklearn.preprocessing import OneHotEncoder\n",
    "\n",
    "import os\n",
    "os.environ['TF_CPP_MIN_LOG_LEVEL'] = '2'  # or any {'0', '1', '2'}\n",
    "import tensorflow as tf\n",
    "from tensorflow import keras\n",
    "\n",
    "from IPython.display import clear_output"
   ]
  },
  {
   "cell_type": "code",
   "execution_count": null,
   "id": "ceeedecb-1c19-41a5-8afd-dc467a65819e",
   "metadata": {
    "tags": []
   },
   "outputs": [],
   "source": []
  },
  {
   "cell_type": "code",
   "execution_count": 2,
   "id": "17ba7df4-915f-47bd-a619-9733e9c91287",
   "metadata": {
    "tags": []
   },
   "outputs": [],
   "source": [
    "applications = pd.read_excel('Big_Case_-_nubank_v2.1.xlsx', sheet_name='application_data')"
   ]
  },
  {
   "cell_type": "code",
   "execution_count": 3,
   "id": "ede18927-43a8-4ba2-838a-55008896e626",
   "metadata": {
    "tags": []
   },
   "outputs": [],
   "source": [
    "applications = pd.concat([applications, pd.get_dummies(applications['residence_duration'], prefix='residence').astype(int)], axis=1)\n",
    "applications = pd.concat([applications, pd.get_dummies(applications['bank_account_duration'], prefix='bank').astype(int)], axis=1)\n",
    "applications = pd.concat([applications, pd.get_dummies(applications['facebook_profile_duration'], prefix='fb').astype(int)], axis=1)\n",
    "applications = pd.concat([applications, pd.get_dummies(applications['home_phone_type'], prefix='phone').astype(int)], axis=1)\n",
    "\n",
    "applications['age_when_requested'] = (applications['application_when'] - applications['birth_date']).apply(lambda x: x.days//365)\n",
    "applications['residence_rent_or_own'] = applications['residence_rent_or_own'].astype(int)\n",
    "\n",
    "\n",
    "applications = applications.drop(columns=['first_name', 'middle_initial', 'last_name', 'address_street', 'cep',\n",
    "                                          'longitude', 'latitude', 'address_state', 'birth_date', 'facebook_profile_duration',\n",
    "                                          'residence_duration', 'bank_account_duration', 'facebook_gender', 'home_phone_type',\n",
    "                                          'address_city', 'phone', 'email', 'occupation', 'cpf',])"
   ]
  },
  {
   "cell_type": "code",
   "execution_count": null,
   "id": "3ecffc50-9d54-4c95-a8ca-cbd3135d9546",
   "metadata": {
    "tags": []
   },
   "outputs": [],
   "source": []
  },
  {
   "cell_type": "code",
   "execution_count": 4,
   "id": "4a961bd4-9d49-4e1e-b7aa-75c4068e08ac",
   "metadata": {
    "tags": []
   },
   "outputs": [],
   "source": [
    "performance = pd.read_excel('Big_Case_-_nubank_v2.1.xlsx', sheet_name='performance_data')\n",
    "\n",
    "# Definindo as variáveis Defaulted e Compliant como binárias e opostas\n",
    "performance['defaulted'] = performance['defaulted'].astype(int)\n",
    "performance['compliant'] = np.abs(1-performance['defaulted'])"
   ]
  },
  {
   "cell_type": "code",
   "execution_count": 5,
   "id": "1fcc857d-7111-43cd-a4ff-183fd4c04307",
   "metadata": {
    "tags": []
   },
   "outputs": [],
   "source": [
    "clients_data = pd.merge(applications, performance, on='id')\n",
    "\n",
    "# Arrumando o nome das colunas \n",
    "clients_data.columns = clients_data.columns.str.strip().str.lower().str.replace(' ', '_').str.replace('(', '').str.replace(')', '').str.replace('-', '_').str.replace('+', '')\n"
   ]
  },
  {
   "cell_type": "code",
   "execution_count": 6,
   "id": "298f1df8-75cd-471c-ab19-8bbf3d0bf54b",
   "metadata": {
    "tags": []
   },
   "outputs": [],
   "source": [
    "# Definimos o tempo como cliente \n",
    "clients_data['time_as_client'] = (clients_data['customer_until']-clients_data['application_when']).apply(lambda x: np.ceil(x.days/30) if not isinstance(x, type(pd.NaT)) else -1)\n",
    "# assumimos um efeito lindy para o tempo total de clientes que ainda são clientes\n",
    "clients_data['time_as_client'] = clients_data['time_as_client'].replace([-1], max(clients_data['time_as_client'])*2)\n",
    "\n",
    "clients_data = clients_data.drop(columns=['customer_until'])"
   ]
  },
  {
   "cell_type": "code",
   "execution_count": 7,
   "id": "103b63f6-99b3-4141-b982-ff857b173e68",
   "metadata": {},
   "outputs": [],
   "source": [
    "# Situação impossível: sem gastos porém marcado como inadimplente\n",
    "indexes_to_filter = clients_data[(clients_data.monthly_spend == 0) & (clients_data.defaulted == 1)].index\n",
    "clients_data = clients_data.drop(indexes_to_filter)\n"
   ]
  },
  {
   "cell_type": "code",
   "execution_count": 8,
   "id": "2876f094-71f8-4373-8860-cc5360ef9d20",
   "metadata": {
    "tags": []
   },
   "outputs": [],
   "source": [
    "clients_data = clients_data.replace([-np.inf, np.inf], np.nan)\n",
    "clients_data = clients_data.dropna()"
   ]
  },
  {
   "cell_type": "markdown",
   "id": "ce819f3c-1090-4f41-9f85-fe862a5ca6f8",
   "metadata": {},
   "source": [
    "### Definição do lucro mensal por cliente\n",
    "\n",
    "Dados que temos o tempo em que um indivíduo permanece como cliente e o seu gasto mensal médio, podemos calucular o lucro cliente como:\n",
    "\n",
    "L = (Tempo como Cliente * Gasto Mensal * Taxa do cartão) - (B_Inad * Gasto Mensal)\n",
    "\n",
    "Onde B_Inad é uma variável booleana que representa 1 se o cliente entrou em inadimplência. Assim, estimamos que a perda por um cliente inadimplente é a média do seu gasto mensal\n",
    "\n",
    "Assumimos, também, um **efeito lindy** para o tempo total que um cliente atual será cliente. Assim, assumindo que os clientes mais longevos tem o cartão há aproximadamente 51 meses, esperamos que eles sejam cliente por mais 51 meses  "
   ]
  },
  {
   "cell_type": "code",
   "execution_count": null,
   "id": "09663ff2-af39-4101-85e9-338c001419b5",
   "metadata": {},
   "outputs": [],
   "source": [
    "fee = 2/100\n",
    "\n",
    "clients_data['profit'] = (clients_data['time_as_client']*clients_data['monthly_spend']*fee - clients_data['defaulted']*clients_data['monthly_spend'])"
   ]
  },
  {
   "cell_type": "code",
   "execution_count": null,
   "id": "7e235f51-68b3-4f4f-8295-395679ffbeb8",
   "metadata": {},
   "outputs": [],
   "source": [
    "clients_data[['defaulted', 'monthly_spend', 'time_as_client', 'profit']].groupby('defaulted').mean()"
   ]
  },
  {
   "cell_type": "markdown",
   "id": "041a49df-b892-416d-8f95-10d422132659",
   "metadata": {},
   "source": [
    "Ou seja, na média, para clientes adimplentes, esperamos receber aproximadamente 1820 e para clientes inadimplentes, aproximadamente 840"
   ]
  },
  {
   "cell_type": "markdown",
   "id": "cfbb8aba-bded-4931-a616-b040aae46680",
   "metadata": {},
   "source": [
    "### Em caso de calote, quanto é o valor esperado da perda? \n",
    "\n",
    "### Por quanto tempo temos o cliente? \n",
    "\n",
    "### Qual o ganho esperado por cliente dado seu calote ou não?"
   ]
  },
  {
   "cell_type": "code",
   "execution_count": null,
   "id": "5220d262-1808-4106-9abb-28d3cd6ad57b",
   "metadata": {},
   "outputs": [],
   "source": [
    "clients_data[['defaulted', 'monthly_spend', 'time_as_client', 'profit']].corr()"
   ]
  },
  {
   "cell_type": "code",
   "execution_count": null,
   "id": "f66b31e5-8053-4f5c-8fb0-7287cc012cac",
   "metadata": {},
   "outputs": [],
   "source": [
    "clients_data[['defaulted', 'monthly_spend', 'time_as_client', 'profit']].describe().T"
   ]
  },
  {
   "cell_type": "markdown",
   "id": "fe700328-021b-4ed2-b144-a9dd792d3edf",
   "metadata": {},
   "source": [
    "### Problema de negócio:\n",
    "\n",
    "#### Desenvolver um modelo de decisão de aceitar um pedido de cartão de crédito baseado em informações pessoais e financeiras de cliente\n",
    "\n",
    "Hoje, aproximadamente 22% dos usuários tornam-se inadimplentes. Sendo assim, utilizando as premissas citadas acima, para 1000 pedidos de cartão, podemos calcular o valor esperado de lucro como:\n",
    "\n",
    "$E[L] = 1000*(0.88*1818 - 0.22*834) = 1.416.360$\n",
    "\n",
    "Se pudermos classificar os novos pedidos de cartão e filtrar aqueles com alta probabilidade de inadimplência, podemos diminuir a taxa de inadimplência de 22% e aumentar a taxa de adimplência de 88%.\n",
    "\n",
    "Nas métricas de classificação, todos os pedidos classificados como Positivo referem-se a um cliente **COMPLIANT**, ou seja, aquele que NÃO deixou de honrar suas dívidas (o oposto de DEFAULT). Assim, temos:\n",
    "\n",
    " - True Positive: Cliente classificado como COMPLIANT e que não deixa de pagar a fatura (Receita, $E[X]=1818$)\n",
    " - False Positive: Cliente classificado como COMPLIANT mas que vem a deixar de pagar a fatura (Potencial Prejuízo, $E[X] = -834$)\n",
    " - True Negative: Cliente classificado como NÃO-COMPLIANT e que de fato viria a deixar de pagar a fatura (Evita-se o prejuízo, $E[X] = 0$)\n",
    " - False Negative: Cliente classificado como NÃO-COMPLIANT e que não deixaria de pagar a fatura (Perda de potencial receita, $E[X] = 0$)\n",
    "\n",
    "Ou seja, os clientes classificados como Positive receberão cartão (Profit > 0), e os classificados como Negative terão seu pedido negado (Profit < 0).\n",
    "\n",
    "Assim, a decisão final se dará no lucro esperado para cada cliente. Para isso serão necessários três modelos adicionais:\n",
    "- Um modelo de regressão para estimar o gasto mensal esperado por cliente\n",
    "- Um modelo de regressão para estimar o tempo que um cliente será cliente\n",
    "- Um modelo classificador para estimar se um cliente será inadimplente ou não\n",
    "\n",
    "Com essas três informações em mãos, podemos criar o modelo final. A matrix de confuão a seguir demonstra os valores esperados para cada decisão"
   ]
  },
  {
   "attachments": {
    "93a747f5-6d88-43be-b5ca-3e65a149a0ee.png": {
     "image/png": "[encoded data removed]"
    }
   },
   "cell_type": "markdown",
   "id": "c7a76625-f59e-4eaa-9fad-4e1acef41812",
   "metadata": {},
   "source": [
    "![image.png](attachment:93a747f5-6d88-43be-b5ca-3e65a149a0ee.png)"
   ]
  },
  {
   "cell_type": "code",
   "execution_count": null,
   "id": "82c38a56-0907-4d2a-bf3d-1f98243a9360",
   "metadata": {
    "tags": []
   },
   "outputs": [],
   "source": [
    "# clients_data = pd.concat([clients_data[clients_data.defaulted==True].sample(2000), \n",
    "#                           clients_data[clients_data.defaulted==False].sample(2000)])\n",
    "clients = deepcopy(clients_data)\n",
    "\n",
    "# clients['monthly_income'] = np.log10(np.array(clients['monthly_income'] + 1))\n",
    "# clients['monthly_rent'] = np.log10(np.array(clients['monthly_rent'] + 1))\n",
    "# clients['credit_line_approved'] = np.log10(np.array(clients['credit_line_approved'] + 1))\n",
    "# clients['credit_line_requested'] = np.log10(np.array(clients['credit_line_requested'] + 1))\n",
    "# clients['monthly_spend'] = np.log10(np.array(clients['monthly_spend'] + 1))\n",
    "\n",
    "clients['residence_rent_or_own'] = clients['residence_rent_or_own'].astype('int')\n",
    "clients['defaulted_int'] = clients.defaulted.astype('int')\n",
    "\n",
    "clients['free_cash_flow'] = clients['monthly_income']-clients['monthly_rent']\n",
    "clients['app_req_ratio'] = clients['credit_line_approved']/clients['credit_line_requested']\n",
    "clients['approved_income_ratio'] = clients['credit_line_approved']/clients['monthly_income']\n",
    "\n",
    "#normalize credit scores\n",
    "# clients[['score_tu', 'score_fico_money', 'score_lexisnexis', 'score_serasa', 'score_unit4']] = MinMaxScaler().fit_transform(clients[['score_tu', 'score_fico_money', 'score_lexisnexis', 'score_serasa', 'score_unit4']])"
   ]
  },
  {
   "cell_type": "code",
   "execution_count": null,
   "id": "0f40848b-6dff-44bf-9439-ac8431d4ddab",
   "metadata": {
    "tags": []
   },
   "outputs": [],
   "source": [
    "personal_data = [\n",
    "    'age_when_requested', 'residence_1_2_years', 'residence_3_years', \n",
    "    'residence_6_months_or_less', 'residence_7_12_months',]\n",
    "                  \n",
    "bank_data = [\n",
    "    'bank_1_2_years','bank_3_years', 'bank_6_months_or_less', 'bank_7_12_months',]\n",
    "\n",
    "financial_data = [\n",
    "    'monthly_income', 'monthly_rent', 'residence_rent_or_own',\n",
    "    'free_cash_flow', 'approved_income_ratio']\n",
    "\n",
    "credit_score_data = [\n",
    "    'score_tu', 'score_fico_money', 'score_lexisnexis', 'score_serasa', \n",
    "    'score_unit4', 'credit_line_requested', 'credit_line_approved','app_req_ratio']\n",
    "\n",
    "target = ['compliant', 'monthly_spend', 'time_as_client', 'profit']\n",
    "\n",
    "selected_features = [\n",
    "    'residence_1_2_years', 'residence_3_years', \n",
    "    'residence_6_months_or_less', 'residence_7_12_months',\n",
    "    'bank_1_2_years','bank_3_years', 'bank_6_months_or_less', 'bank_7_12_months',\n",
    "    'monthly_income', 'monthly_rent', 'residence_rent_or_own',\n",
    "    'free_cash_flow', 'approved_income_ratio',\n",
    "    'score_tu', 'score_fico_money', 'score_lexisnexis', 'score_serasa', \n",
    "    'score_unit4', 'credit_line_requested', 'credit_line_approved','app_req_ratio',\n",
    "]"
   ]
  },
  {
   "cell_type": "code",
   "execution_count": null,
   "id": "396fedd1-2d06-4e5f-9488-c43015a91c75",
   "metadata": {
    "tags": []
   },
   "outputs": [],
   "source": [
    "# sns.pairplot(clients.sample(250)[financial_data + target], hue='defaulted')"
   ]
  },
  {
   "cell_type": "code",
   "execution_count": null,
   "id": "f775b669-1545-4c9f-9742-ecf91d61fcfe",
   "metadata": {
    "tags": []
   },
   "outputs": [],
   "source": [
    "# sns.pairplot(clients.sample(250)[credit_score_data + target], hue='defaulted')\n"
   ]
  },
  {
   "cell_type": "code",
   "execution_count": null,
   "id": "6931fd24-42db-4ecf-9996-bf134019d7db",
   "metadata": {
    "tags": []
   },
   "outputs": [],
   "source": [
    "# Increase the size of the heatmap.\n",
    "plt.figure(figsize=(32, 15))\n",
    "# Store heatmap object in a variable to easily access it when you want to include more features (such as title).\n",
    "# Set the range of values to be displayed on the colormap from -1 to 1, and set the annotation to True to display the correlation values on the heatmap.\n",
    "heatmap = sns.heatmap(clients[selected_features+target].corr().round(2), vmin=-1, vmax=1, annot=True, cmap='RdBu')\n",
    "# Give a title to the heatmap. Pad defines the distance of the title from the top of the heatmap.\n",
    "heatmap.set_title('Correlation Heatmap', fontdict={'fontsize':12}, pad=12);"
   ]
  },
  {
   "cell_type": "code",
   "execution_count": null,
   "id": "e84b3e7f-11c4-4ba9-9071-a2f533a12245",
   "metadata": {},
   "outputs": [],
   "source": [
    "final_df = deepcopy(clients[selected_features+target])\n",
    "final_df = final_df.replace([-np.inf, np.inf], np.nan)\n",
    "final_df = final_df.dropna()\n",
    "final_df.to_json('final_data.json')\n",
    "\n",
    "testing_df = final_df.sample(1000, random_state=12)\n",
    "train_df = final_df.drop(testing_df.index)\n",
    "\n",
    "testing_df.to_json('test_data.json')\n",
    "train_df.to_json('train_data.json')"
   ]
  },
  {
   "cell_type": "code",
   "execution_count": null,
   "id": "745f8e19-c6c4-4b82-8a53-67fc23e10d52",
   "metadata": {},
   "outputs": [],
   "source": []
  },
  {
   "cell_type": "code",
   "execution_count": null,
   "id": "24e16900-3b33-435f-8496-3c435290d971",
   "metadata": {},
   "outputs": [],
   "source": []
  }
 ],
 "metadata": {
  "kernelspec": {
   "display_name": "Python 3 (ipykernel)",
   "language": "python",
   "name": "python3"
  },
  "language_info": {
   "codemirror_mode": {
    "name": "ipython",
    "version": 3
   },
   "file_extension": ".py",
   "mimetype": "text/x-python",
   "name": "python",
   "nbconvert_exporter": "python",
   "pygments_lexer": "ipython3",
   "version": "3.10.6"
  }
 },
 "nbformat": 4,
 "nbformat_minor": 5
}
