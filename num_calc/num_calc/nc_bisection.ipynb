{
 "cells": [
  {
   "cell_type": "code",
   "execution_count": 50,
   "id": "8918516f-9a82-40f8-964d-df2d8cc017b8",
   "metadata": {
    "tags": []
   },
   "outputs": [],
   "source": [
    "def print_line(i, xa, xb, xc, f_xc, nxa, nxb):\n",
    "    print(f'{int(i)} & {xa:.2f} & {xb:.2f} & {xc:.4f} & {f_xc:.4f} & [{nxa:.4f}, {nxb:.4f}] \\\\\\\\',)\n",
    "\n",
    "def bisection_method(f, xa, xb, error, i=0):\n",
    "    \n",
    "    if f(xb) < f(xa):\n",
    "        xa,xb = xb,xa\n",
    "    i+=1\n",
    "    nxa = xa\n",
    "    nxb = xb\n",
    "    \n",
    "    xc = 0.5*(xa+xb)\n",
    "    f_xc = f(xc)\n",
    "    \n",
    "    if abs(f_xc) < error:\n",
    "        print_line(i, xa, xb, xc, f_xc, nxa, nxb)\n",
    "        return xc\n",
    "    \n",
    "    if f_xc < 0:\n",
    "        nxa = xc\n",
    "    else:\n",
    "        nxb = xc\n",
    "    print_line(i, xa, xb, xc, f_xc, nxa, nxb)\n",
    "    return bisection_method(f, nxa, nxb, error=1e-3, i=i)"
   ]
  },
  {
   "cell_type": "code",
   "execution_count": 39,
   "id": "9eeaf979-a19d-42e5-9acf-cb6abba9dff0",
   "metadata": {
    "tags": []
   },
   "outputs": [
    {
     "name": "stdout",
     "output_type": "stream",
     "text": [
      "\\hline\n",
      "1 & 1.00 & 2.00 & 1.5000 & 0.1250 & [1.0000, 1.5000] \\\\\n",
      "\\hline\n",
      "2 & 1.00 & 1.50 & 1.2500 & -0.6094 & [1.2500, 1.5000] \\\\\n",
      "\\hline\n",
      "3 & 1.25 & 1.50 & 1.3750 & -0.2910 & [1.3750, 1.5000] \\\\\n",
      "\\hline\n",
      "4 & 1.38 & 1.50 & 1.4375 & -0.0959 & [1.4375, 1.5000] \\\\\n",
      "\\hline\n",
      "5 & 1.44 & 1.50 & 1.4688 & 0.0112 & [1.4375, 1.4688] \\\\\n",
      "\\hline\n",
      "6 & 1.44 & 1.47 & 1.4531 & -0.0432 & [1.4531, 1.4688] \\\\\n",
      "\\hline\n",
      "7 & 1.45 & 1.47 & 1.4609 & -0.0162 & [1.4609, 1.4688] \\\\\n",
      "\\hline\n",
      "8 & 1.46 & 1.47 & 1.4648 & -0.0026 & [1.4648, 1.4688] \\\\\n",
      "\\hline\n",
      "9 & 1.46 & 1.47 & 1.4668 & 0.0043 & [1.4648, 1.4668] \\\\\n",
      "\\hline\n",
      "10 & 1.46 & 1.47 & 1.4658 & 0.0009 & [1.4648, 1.4668] \\\\\n"
     ]
    },
    {
     "data": {
      "text/plain": [
       "1.4658203125"
      ]
     },
     "execution_count": 39,
     "metadata": {},
     "output_type": "execute_result"
    }
   ],
   "source": [
    "def f1(x):\n",
    "    return x**3 - x**2 - 1\n",
    "\n",
    "bisection_method(f1, 1, 2)"
   ]
  },
  {
   "cell_type": "code",
   "execution_count": 41,
   "id": "b0345062-af46-4d5f-a714-04ea15adc36e",
   "metadata": {
    "tags": []
   },
   "outputs": [
    {
     "name": "stdout",
     "output_type": "stream",
     "text": [
      "\\hline\n",
      "1 & 3.00 & 1.00 & 2.0000 & 1.0000 & [3.0000, 2.0000] \\\\\n",
      "\\hline\n",
      "2 & 3.00 & 2.00 & 2.5000 & -0.1569 & [2.5000, 2.0000] \\\\\n",
      "\\hline\n",
      "3 & 2.50 & 2.00 & 2.2500 & 0.4932 & [2.5000, 2.2500] \\\\\n",
      "\\hline\n",
      "4 & 2.50 & 2.25 & 2.3750 & 0.1876 & [2.5000, 2.3750] \\\\\n",
      "\\hline\n",
      "5 & 2.50 & 2.38 & 2.4375 & 0.0205 & [2.5000, 2.4375] \\\\\n",
      "\\hline\n",
      "6 & 2.50 & 2.44 & 2.4688 & -0.0669 & [2.4688, 2.4375] \\\\\n",
      "\\hline\n",
      "7 & 2.47 & 2.44 & 2.4531 & -0.0229 & [2.4531, 2.4375] \\\\\n",
      "\\hline\n",
      "8 & 2.45 & 2.44 & 2.4453 & -0.0011 & [2.4453, 2.4375] \\\\\n",
      "\\hline\n",
      "9 & 2.45 & 2.44 & 2.4414 & 0.0097 & [2.4453, 2.4414] \\\\\n",
      "\\hline\n",
      "10 & 2.45 & 2.44 & 2.4434 & 0.0043 & [2.4453, 2.4434] \\\\\n",
      "\\hline\n",
      "11 & 2.45 & 2.44 & 2.4443 & 0.0016 & [2.4453, 2.4443] \\\\\n",
      "\\hline\n",
      "12 & 2.45 & 2.44 & 2.4448 & 0.0002 & [2.4453, 2.4443] \\\\\n"
     ]
    },
    {
     "data": {
      "text/plain": [
       "2.44482421875"
      ]
     },
     "execution_count": 41,
     "metadata": {},
     "output_type": "execute_result"
    }
   ],
   "source": [
    "def f2(x):\n",
    "    return x + 3 - 2**x\n",
    "\n",
    "bisection_method(f2, 1, 3)"
   ]
  },
  {
   "cell_type": "code",
   "execution_count": 45,
   "id": "c53c666e-2b27-4c0e-923b-a997848e561e",
   "metadata": {
    "tags": []
   },
   "outputs": [
    {
     "name": "stdout",
     "output_type": "stream",
     "text": [
      "1 & 1.00 & 2.00 & 1.5000 & 0.0858 & [1.0000, 1.5000] \\\\\n",
      "2 & 1.00 & 1.50 & 1.2500 & -0.1642 & [1.2500, 1.5000] \\\\\n",
      "3 & 1.25 & 1.50 & 1.3750 & -0.0392 & [1.3750, 1.5000] \\\\\n",
      "4 & 1.38 & 1.50 & 1.4375 & 0.0233 & [1.3750, 1.4375] \\\\\n",
      "5 & 1.38 & 1.44 & 1.4062 & -0.0080 & [1.4062, 1.4375] \\\\\n",
      "6 & 1.41 & 1.44 & 1.4219 & 0.0077 & [1.4062, 1.4219] \\\\\n",
      "7 & 1.41 & 1.42 & 1.4141 & -0.0002 & [1.4062, 1.4219] \\\\\n"
     ]
    },
    {
     "data": {
      "text/plain": [
       "1.4140625"
      ]
     },
     "execution_count": 45,
     "metadata": {},
     "output_type": "execute_result"
    }
   ],
   "source": [
    "import numpy as np\n",
    "def f3(x):\n",
    "    return x-np.sqrt(2)\n",
    "\n",
    "bisection_method(f3, 1, 2)"
   ]
  },
  {
   "cell_type": "code",
   "execution_count": null,
   "id": "5b5f7b4e-e052-4158-b331-6a6c9aa542a8",
   "metadata": {},
   "outputs": [],
   "source": [
    "import numpy as np\n",
    "x = np.array([1,2,3])\n",
    "A = np.array([[4,-2,0],[-2,1,-1],[0,-1,-2]])"
   ]
  }
 ],
 "metadata": {
  "kernelspec": {
   "display_name": "Python 3 (ipykernel)",
   "language": "python",
   "name": "python3"
  },
  "language_info": {
   "codemirror_mode": {
    "name": "ipython",
    "version": 3
   },
   "file_extension": ".py",
   "mimetype": "text/x-python",
   "name": "python",
   "nbconvert_exporter": "python",
   "pygments_lexer": "ipython3",
   "version": "3.10.6"
  }
 },
 "nbformat": 4,
 "nbformat_minor": 5
}
