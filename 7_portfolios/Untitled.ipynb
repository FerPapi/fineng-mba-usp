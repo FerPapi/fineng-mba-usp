{
 "cells": [
  {
   "cell_type": "markdown",
   "id": "0c90513a-a51b-4072-99c1-e25201bc9f5e",
   "metadata": {},
   "source": [
    "$$\n",
    "x_f + x_a + x_b + x_c = 0\n",
    "$$\n",
    "\n",
    "$$\n",
    "V(1) = (1 + r_f)*x_f + (1 + P_a)*x_a + (1 + P_b)*x_b + (1 + P_c)*x_c\n",
    "$$\n",
    "\n",
    "$$\n",
    "V(1) = (x_f + x_a + x_b + x_c) + (r_f*x_f + P_a*x_a + P_b*x_b + P_c*x_c)\n",
    "$$\n",
    "\n",
    "$$\n",
    "\\implies (x_f + x_a + x_b + x_c) = 0\n",
    "$$\n",
    "$$\n",
    "\\implies V(1) = (r_f*x_f + P_a*x_a + P_b*x_b + P_c*x_c)\n",
    "$$\n",
    "\n",
    "se\n",
    "$$\n",
    "x_f = -( x_a + x_b + x_c)\n",
    "$$\n",
    "\n",
    "então\n",
    "$$\n",
    "V(1) = (-r_f*(x_a + x_b + x_c) + P_a*x_a + P_b*x_b + P_c*x_c)\\\\\n",
    "$$\n",
    "\n",
    "$$\n",
    "V(1) = (P_a - r_f)*x_a + (P_b - r_f)*x_b + (P_c - r_f)*x_c\n",
    "$$\n",
    "\n",
    "a equação acima pode ser separa em termos a partir das equações de fatores:\n",
    "\n",
    "$$\n",
    "V(1) = (r_a - r_f)*xa + (r_b - r_f)* + (r_c - r_f)*x_c\n",
    "$$\n",
    "$$\n",
    "     + (b_a1*x_a + b_b1*x_b + b_c1*x_c) * (F_1 - \\mu_{F_1})\n",
    "$$\n",
    "$$\n",
    "     + (b_a2*x_a + b_b2*x_b + b_c2*x_c) * (F_2 - \\mu_{F_2})\n",
    "$$\n",
    "\n",
    "\n",
    "A primeira linha da expressão significa a exposição a cada uma das carteiras e o excesso de retorno total. Esse valor é $R\\$126,00$ como esperado. Isso força que tenhamos as outras duas linhas da equação sejam $=0$, e, portanto:\n",
    "\n",
    "$$\n",
    "(r_a - r_f)*x_a + (r_b - r_f)*x_b + (r_c - r_f)*x_c = 126\n",
    "$$\n",
    "$$\n",
    "(b_a1*x_a + b_b1*x_b + b_c1*x_c) = 0\n",
    "$$\n",
    "$$\n",
    "(b_a2*x_a + b_b2*x_b + b_c2*x_c) = 0 \n",
    "$$\n"
   ]
  },
  {
   "cell_type": "code",
   "execution_count": null,
   "id": "1d57c0aa-36d9-425d-9388-e45da5a611ad",
   "metadata": {},
   "outputs": [],
   "source": []
  }
 ],
 "metadata": {
  "kernelspec": {
   "display_name": "Python 3 (ipykernel)",
   "language": "python",
   "name": "python3"
  },
  "language_info": {
   "codemirror_mode": {
    "name": "ipython",
    "version": 3
   },
   "file_extension": ".py",
   "mimetype": "text/x-python",
   "name": "python",
   "nbconvert_exporter": "python",
   "pygments_lexer": "ipython3",
   "version": "3.10.12"
  }
 },
 "nbformat": 4,
 "nbformat_minor": 5
}
