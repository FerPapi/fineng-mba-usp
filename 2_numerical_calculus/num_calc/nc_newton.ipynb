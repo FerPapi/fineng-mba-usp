{
 "cells": [
  {
   "cell_type": "code",
   "execution_count": 10,
   "id": "9573de96-3e6c-469b-a474-2e445cc2ba3f",
   "metadata": {
    "tags": []
   },
   "outputs": [],
   "source": [
    "def newton_raphson(x, f, df, i=0):\n",
    "    i += 1\n",
    "    x1 = x - f(x)/df(x)\n",
    "    \n",
    "    print(f\"{int(i)} & {x:.3f} & {x1:.3f} & {f(x1):.3f} \\\\\\\\\")\n",
    "    if abs(f(x1)) <= 1e-4:\n",
    "        return x1\n",
    "    \n",
    "    return newton_raphson(x1, f, df, i)\n"
   ]
  },
  {
   "cell_type": "code",
   "execution_count": 14,
   "id": "34001f29-a443-4bde-a372-ba3540e1335d",
   "metadata": {
    "tags": []
   },
   "outputs": [
    {
     "name": "stdout",
     "output_type": "stream",
     "text": [
      "1 & 10.000 & 6.874 & 243.059 \\\\\n",
      "2 & 6.874 & 4.783 & 72.255 \\\\\n",
      "3 & 4.783 & 3.381 & 21.541 \\\\\n",
      "4 & 3.381 & 2.434 & 6.443 \\\\\n",
      "5 & 2.434 & 1.793 & 1.919 \\\\\n",
      "6 & 1.793 & 1.363 & 0.544 \\\\\n",
      "7 & 1.363 & 1.107 & 0.120 \\\\\n",
      "8 & 1.107 & 1.011 & 0.011 \\\\\n",
      "9 & 1.011 & 1.000 & 0.000 \\\\\n",
      "10 & 1.000 & 1.000 & 0.000 \\\\\n"
     ]
    },
    {
     "data": {
      "text/plain": [
       "1.0000000158432085"
      ]
     },
     "execution_count": 14,
     "metadata": {},
     "output_type": "execute_result"
    }
   ],
   "source": [
    "def f(x):\n",
    "    return x**3 - 2*x**2 + 2*x -1\n",
    "\n",
    "def df(x):\n",
    "    return 3*x**2 - 4*x + 2\n",
    "\n",
    "newton_raphson(10, f, df)"
   ]
  },
  {
   "cell_type": "code",
   "execution_count": 19,
   "id": "05b06e5d-fc02-41e3-92b3-e3f783e0dd24",
   "metadata": {
    "tags": []
   },
   "outputs": [
    {
     "name": "stdout",
     "output_type": "stream",
     "text": [
      "1 & 1.571 & 1.785 & 0.007 \\\\\n",
      "2 & 1.785 & 1.845 & 0.002 \\\\\n",
      "3 & 1.845 & 1.871 & 0.000 \\\\\n",
      "4 & 1.871 & 1.883 & 0.000 \\\\\n"
     ]
    }
   ],
   "source": [
    "import numpy as np\n",
    "def f(x):\n",
    "    return (np.sin(x)-x/2)**2\n",
    "\n",
    "def df(x):\n",
    "    return 2*(np.sin(x) - x/2) * (np.cos(x) - 1/2)\n",
    "\n",
    "r = newton_raphson(np.pi/2, f, df)"
   ]
  },
  {
   "cell_type": "code",
   "execution_count": 45,
   "id": "a7cf9c92-3f1c-4109-b1d8-e91443912325",
   "metadata": {
    "tags": []
   },
   "outputs": [
    {
     "name": "stdout",
     "output_type": "stream",
     "text": [
      "1 & 10.000 & 1.414 & -0.000 \\\\\n",
      "1.9999999999999167\n"
     ]
    }
   ],
   "source": [
    "import numpy as np\n",
    "def f(x):\n",
    "    return x-np.sqrt(2)\n",
    "\n",
    "def df(x):\n",
    "    return 1.1\n",
    "\n",
    "def df(x):\n",
    "    return ((f(x+0.1)-f(x)) * (1/0.1))\n",
    "\n",
    "r = newton_raphson(10, f, df)\n",
    "print(r*r)"
   ]
  },
  {
   "cell_type": "code",
   "execution_count": 49,
   "id": "c30613e5-5f58-4f0b-a5d7-8ebd96b33240",
   "metadata": {
    "tags": []
   },
   "outputs": [
    {
     "name": "stdout",
     "output_type": "stream",
     "text": [
      "1 & 10.000 & 9.004 & 8048.373 \\\\\n",
      "2 & 9.004 & 8.012 & 2948.498 \\\\\n",
      "3 & 8.012 & 7.030 & 1075.568 \\\\\n",
      "4 & 7.030 & 6.066 & 389.211 \\\\\n",
      "5 & 6.066 & 5.137 & 138.808 \\\\\n",
      "6 & 5.137 & 4.269 & 48.225 \\\\\n",
      "7 & 4.269 & 3.502 & 15.929 \\\\\n",
      "8 & 3.502 & 2.894 & 4.693 \\\\\n",
      "9 & 2.894 & 2.512 & 1.020 \\\\\n",
      "10 & 2.512 & 2.372 & 0.095 \\\\\n",
      "11 & 2.372 & 2.357 & 0.001 \\\\\n",
      "12 & 2.357 & 2.356 & 0.000 \\\\\n",
      "2.3563535158705333\n"
     ]
    }
   ],
   "source": [
    "\n",
    "import numpy as np\n",
    "def f(x):\n",
    "    return -5 -x**2 + np.e**x\n",
    "\n",
    "def df(x):\n",
    "    return -2*x + np.e**x\n",
    "\n",
    "# def df(x):\n",
    "#     return ((f(x+0.1)-f(x)) * (1/0.1))\n",
    "\n",
    "r = newton_raphson(10, f, df)\n",
    "print(r)"
   ]
  },
  {
   "cell_type": "code",
   "execution_count": 4,
   "id": "e5f4e597-5a19-4bb6-8395-addf5deae67e",
   "metadata": {
    "tags": []
   },
   "outputs": [
    {
     "name": "stdout",
     "output_type": "stream",
     "text": [
      "1 & -2.000 & -1.250 & 0.562 \\\\\n",
      "2 & -1.250 & -1.025 & 0.051 \\\\\n",
      "3 & -1.025 & -1.000 & 0.001 \\\\\n"
     ]
    }
   ],
   "source": [
    "def n_k1(x, h=0):\n",
    "    return (x**2 + x*h +1)/(2*x + h)\n",
    "\n",
    "error = 1\n",
    "x = -2\n",
    "i=0\n",
    "while error >= 0.001:\n",
    "    i += 1\n",
    "    x_k1 = n_k1(x, 0)\n",
    "    f_xk1 = (x_k1**2)-1\n",
    "    error = abs(f_xk1)\n",
    "    print(f\"{int(i)} & {x:.3f} & {x_k1:.3f} & {f_xk1:.3f} \\\\\\\\\")\n",
    "    \n",
    "    x = x_k1\n"
   ]
  },
  {
   "cell_type": "code",
   "execution_count": 3,
   "id": "38c727b3-df84-435a-8020-81924f77e6d3",
   "metadata": {},
   "outputs": [
    {
     "name": "stdout",
     "output_type": "stream",
     "text": [
      "1 & -2.000 & -1.231 & 0.515 \\\\\n",
      "2 & -1.231 & -1.013 & 0.026 \\\\\n",
      "3 & -1.013 & -0.999 & -0.001 \\\\\n",
      "4 & -0.999 & -1.000 & 0.000 \\\\\n"
     ]
    }
   ],
   "source": [
    "error = 1\n",
    "x = -2\n",
    "i=0\n",
    "\n",
    "while error >= 0.001:\n",
    "    i += 1\n",
    "    x_k1 = n_k1(x, 0.1)\n",
    "    f_xk1 = (x_k1**2)-1\n",
    "    error = abs(f_xk1)\n",
    "    print(f\"{int(i)} & {x:.3f} & {x_k1:.3f} & {f_xk1:.3f} \\\\\\\\\")\n",
    "    \n",
    "    x = x_k1"
   ]
  },
  {
   "cell_type": "code",
   "execution_count": 3,
   "id": "011a002a-a593-4026-845b-8c062efcbe52",
   "metadata": {},
   "outputs": [
    {
     "name": "stdout",
     "output_type": "stream",
     "text": [
      "1 & 10.000 & 9.004 & 10.000 & -70.077 & -0.992 \\\\\n",
      "2 & 9.004 & 8.012 & -70.077 & -53.213 & -0.983 \\\\\n",
      "3 & 8.012 & 7.030 & -53.213 & -38.455 & -0.965 \\\\\n",
      "4 & 7.030 & 6.066 & -38.455 & -25.869 & -0.929 \\\\\n",
      "5 & 6.066 & 5.137 & -25.869 & -15.525 & -0.863 \\\\\n",
      "6 & 5.137 & 4.269 & -15.525 & -7.471 & -0.753 \\\\\n",
      "7 & 4.269 & 3.502 & -7.471 & -1.679 & -0.588 \\\\\n",
      "8 & 3.502 & 2.894 & -1.679 & 1.993 & -0.370 \\\\\n",
      "9 & 2.894 & 2.512 & 1.993 & 3.835 & -0.146 \\\\\n",
      "10 & 2.512 & 2.372 & 3.835 & 4.391 & -0.019 \\\\\n",
      "11 & 2.372 & 2.357 & 4.391 & 4.447 & -0.000 \\\\\n"
     ]
    }
   ],
   "source": [
    "import numpy as np\n",
    "e = np.e\n",
    "\n",
    "def f(x,y):\n",
    "    return 10-x**2-y\n",
    "\n",
    "def g(x,y):\n",
    "    return 15-e**x-y\n",
    "\n",
    "def f_x(x):\n",
    "    return -2*x\n",
    "\n",
    "def f_y(y):\n",
    "    return -1\n",
    "\n",
    "def g_x(x):\n",
    "    return -e**x\n",
    "\n",
    "def g_y(y):\n",
    "    return -1\n",
    "\n",
    "def det_jacob(x,y):\n",
    "    return f_x(x)*g_y(y) - f_y(y)*g_x(x)\n",
    "\n",
    "def x_k1(x,y):\n",
    "    return x - ((g_y(y)*f(x,y)) - (g(x,y)*f_y(y)))/(det_jacob(x,y))\n",
    "\n",
    "def y_k1(x,y):\n",
    "    return y - ((f_x(x)*g(x,y)) - (f(x,y)*g_x(x)))/(det_jacob(x,y))\n",
    "\n",
    "error = 1\n",
    "x = 10\n",
    "y = 10\n",
    "i=0\n",
    "while error >= 0.001:\n",
    "    i += 1\n",
    "    next_x = x_k1(x, y)\n",
    "    next_y = y_k1(x, y)\n",
    "    \n",
    "    f_xy_k1 = f(next_x, next_y)\n",
    "    error = abs(f_xy_k1)\n",
    "    print(f\"{int(i)} & {x:.3f} & {next_x:.3f} & {y:.3f} & {next_y:.3f} & {f_xy_k1:.3f} \\\\\\\\\")\n",
    "    \n",
    "    x = next_x\n",
    "    y = next_y"
   ]
  },
  {
   "cell_type": "code",
   "execution_count": null,
   "id": "3dce8771-21ac-4f04-a449-0ae2b5dae4be",
   "metadata": {},
   "outputs": [],
   "source": []
  }
 ],
 "metadata": {
  "kernelspec": {
   "display_name": "Python 3 (ipykernel)",
   "language": "python",
   "name": "python3"
  },
  "language_info": {
   "codemirror_mode": {
    "name": "ipython",
    "version": 3
   },
   "file_extension": ".py",
   "mimetype": "text/x-python",
   "name": "python",
   "nbconvert_exporter": "python",
   "pygments_lexer": "ipython3",
   "version": "3.10.6"
  }
 },
 "nbformat": 4,
 "nbformat_minor": 5
}
