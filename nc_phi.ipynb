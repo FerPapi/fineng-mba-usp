{
 "cells": [
  {
   "cell_type": "code",
   "execution_count": 141,
   "id": "a7f99f5f-7145-408f-88b3-f88d16847456",
   "metadata": {
    "tags": []
   },
   "outputs": [],
   "source": [
    "def successive_approx(x, phi_func=phi, print_func=print_line, error=1e-3, i=0, n=100):\n",
    "    i += 1\n",
    "    \n",
    "    phi_x = phi_func(x)\n",
    "    \n",
    "    print_func(i, x, phi_x)\n",
    "    # if i == 15:\n",
    "    #     print('Diverged')\n",
    "    #     return None\n",
    "    \n",
    "    if abs(x-phi_x) < error:\n",
    "        return phi_x\n",
    "\n",
    "    return successive_approx(phi_x, phi_func, print_func, i=i)"
   ]
  },
  {
   "cell_type": "code",
   "execution_count": 80,
   "id": "47d8b9fe-4483-4fcf-980e-19fe50f3afc7",
   "metadata": {
    "tags": []
   },
   "outputs": [
    {
     "name": "stdout",
     "output_type": "stream",
     "text": [
      "$x_{1}= \\phi(x_{0}) = (2.000)^3 - 2*(2.000)^2 - 1) * (-0.5) = 0.500 $ \\\\\n",
      "$x_{2}= \\phi(x_{1}) = (0.500)^3 - 2*(0.500)^2 - 1) * (-0.5) = 0.688 $ \\\\\n",
      "$x_{3}= \\phi(x_{2}) = (0.688)^3 - 2*(0.688)^2 - 1) * (-0.5) = 0.810 $ \\\\\n",
      "$x_{4}= \\phi(x_{3}) = (0.810)^3 - 2*(0.810)^2 - 1) * (-0.5) = 0.890 $ \\\\\n",
      "$x_{5}= \\phi(x_{4}) = (0.890)^3 - 2*(0.890)^2 - 1) * (-0.5) = 0.940 $ \\\\\n",
      "$x_{6}= \\phi(x_{5}) = (0.940)^3 - 2*(0.940)^2 - 1) * (-0.5) = 0.968 $ \\\\\n",
      "$x_{7}= \\phi(x_{6}) = (0.968)^3 - 2*(0.968)^2 - 1) * (-0.5) = 0.984 $ \\\\\n",
      "$x_{8}= \\phi(x_{7}) = (0.984)^3 - 2*(0.984)^2 - 1) * (-0.5) = 0.992 $ \\\\\n",
      "$x_{9}= \\phi(x_{8}) = (0.992)^3 - 2*(0.992)^2 - 1) * (-0.5) = 0.996 $ \\\\\n",
      "$x_{10}= \\phi(x_{9}) = (0.996)^3 - 2*(0.996)^2 - 1) * (-0.5) = 0.998 $ \\\\\n",
      "Diverged\n"
     ]
    }
   ],
   "source": [
    "def phi(x):\n",
    "    return (x**3 - 2*x**2 - 1)*(-1/2)\n",
    "\n",
    "successive_approx(2, phi)"
   ]
  },
  {
   "cell_type": "code",
   "execution_count": 81,
   "id": "7905c478-ef19-4fe7-a705-7d7105c2684e",
   "metadata": {
    "tags": []
   },
   "outputs": [
    {
     "data": {
      "text/plain": [
       "0.6875"
      ]
     },
     "execution_count": 81,
     "metadata": {},
     "output_type": "execute_result"
    }
   ],
   "source": [
    "phi(0.5)"
   ]
  },
  {
   "cell_type": "code",
   "execution_count": 113,
   "id": "0fd85b69-965e-4ed5-8809-7b5de6487697",
   "metadata": {
    "tags": []
   },
   "outputs": [
    {
     "name": "stdout",
     "output_type": "stream",
     "text": [
      "$x_{1}= \\phi(x_{0}) = (1 - 1.5*1.000)/0.5 = -1.000 $ \\\\\n",
      "$x_{2}= \\phi(x_{1}) = (1 - 1.5*-1.000)/0.5 = 5.000 $ \\\\\n",
      "$x_{3}= \\phi(x_{2}) = (1 - 1.5*5.000)/0.5 = -13.000 $ \\\\\n",
      "$x_{4}= \\phi(x_{3}) = (1 - 1.5*-13.000)/0.5 = 41.000 $ \\\\\n",
      "$x_{5}= \\phi(x_{4}) = (1 - 1.5*41.000)/0.5 = -121.000 $ \\\\\n",
      "$x_{6}= \\phi(x_{5}) = (1 - 1.5*-121.000)/0.5 = 365.000 $ \\\\\n",
      "$x_{7}= \\phi(x_{6}) = (1 - 1.5*365.000)/0.5 = -1093.000 $ \\\\\n",
      "$x_{8}= \\phi(x_{7}) = (1 - 1.5*-1093.000)/0.5 = 3281.000 $ \\\\\n",
      "$x_{9}= \\phi(x_{8}) = (1 - 1.5*3281.000)/0.5 = -9841.000 $ \\\\\n",
      "$x_{10}= \\phi(x_{9}) = (1 - 1.5*-9841.000)/0.5 = 29525.000 $ \\\\\n",
      "Diverged\n",
      "-x-\n",
      "$x_{1}= \\phi(x_{0}) = (1 - 0.5*1.000)/1.5 = 0.333 $ \\\\\n",
      "$x_{2}= \\phi(x_{1}) = (1 - 0.5*0.333)/1.5 = 0.556 $ \\\\\n",
      "$x_{3}= \\phi(x_{2}) = (1 - 0.5*0.556)/1.5 = 0.481 $ \\\\\n",
      "$x_{4}= \\phi(x_{3}) = (1 - 0.5*0.481)/1.5 = 0.506 $ \\\\\n",
      "$x_{5}= \\phi(x_{4}) = (1 - 0.5*0.506)/1.5 = 0.498 $ \\\\\n",
      "$x_{6}= \\phi(x_{5}) = (1 - 0.5*0.498)/1.5 = 0.501 $ \\\\\n",
      "$x_{7}= \\phi(x_{6}) = (1 - 0.5*0.501)/1.5 = 0.500 $ \\\\\n"
     ]
    },
    {
     "data": {
      "text/plain": [
       "0.5006858710562414"
      ]
     },
     "execution_count": 113,
     "metadata": {},
     "output_type": "execute_result"
    }
   ],
   "source": [
    "def print_line_phi1(i, x, phi_x):\n",
    "    # print(f'{int(i)} & {x:.3f} & {phi_x:.3f} \\\\\\\\')\n",
    "    print(\"$x_{\" + str(int(i)) + \"}\" + \"= \\phi(x_{\" +str(int(i-1)) + \"}) = \" + f\"(1 - 1.5*{x:.3f})/0.5 = {phi_x:.3f} $ \\\\\\\\\")\n",
    "\n",
    "def phi1(x):\n",
    "    return (1 - 1.5*x)/0.5\n",
    "\n",
    "successive_approx(1, phi1, print_line_phi1, i=0, n=7)\n",
    "\n",
    "\n",
    "def print_line_phi2(i, x, phi_x):\n",
    "    # print(f'{int(i)} & {x:.3f} & {phi_x:.3f} \\\\\\\\')\n",
    "    print(\"$x_{\" + str(int(i)) + \"}\" + \"= \\phi(x_{\" +str(int(i-1)) + \"}) = \" + f\"(1 - 0.5*{x:.3f})/1.5 = {phi_x:.3f} $ \\\\\\\\\")\n",
    "\n",
    "def phi2(x):\n",
    "    return (1 - 0.5*x)/1.5\n",
    "\n",
    "print('-x-')\n",
    "successive_approx(1, phi2, print_line_phi2, n=7)"
   ]
  },
  {
   "cell_type": "code",
   "execution_count": 144,
   "id": "70cc3294-d7c0-40ea-b1a8-4415ddbb3bac",
   "metadata": {
    "tags": []
   },
   "outputs": [
    {
     "name": "stdout",
     "output_type": "stream",
     "text": [
      "$x_{1}= \\phi(x_{0}) = (\\sqrt{2} + 10.000) / 2 = 1.414 $ \\\\\n",
      "$x_{2}= \\phi(x_{1}) = (\\sqrt{2} + 1.414) / 2 = 1.414 $ \\\\\n"
     ]
    }
   ],
   "source": [
    "import numpy as np\n",
    "def print_line_phi3(i, x, phi_x):\n",
    "    print(\"$x_{\" + str(int(i)) + \"}\" + \"= \\phi(x_{\" +str(int(i-1)) + \"}) = \" + \"(\\\\sqrt{2} + \" + f\"{x:.3f})\" + \" / 2\" + \" = \" + f\"{phi_x:.3f} $ \\\\\\\\\")\n",
    "\n",
    "def phi3(x):\n",
    "    return (np.sqrt(2) + 0.00001*x)/(1+0.00001) \n",
    "\n",
    "r = successive_approx(10, phi3, print_line_phi3, error=1e-5, n=100)\n"
   ]
  },
  {
   "cell_type": "code",
   "execution_count": 126,
   "id": "6cc46699-f354-49d4-ab5a-4b61dd53d1eb",
   "metadata": {
    "tags": []
   },
   "outputs": [
    {
     "data": {
      "text/plain": [
       "2.00296548702997"
      ]
     },
     "execution_count": 126,
     "metadata": {},
     "output_type": "execute_result"
    }
   ],
   "source": [
    "r*r"
   ]
  },
  {
   "cell_type": "code",
   "execution_count": 145,
   "id": "1d532df7-d63e-4127-aea8-e868d731e3f5",
   "metadata": {
    "tags": []
   },
   "outputs": [
    {
     "data": {
      "text/plain": [
       "0.00010320545447732474"
      ]
     },
     "execution_count": 145,
     "metadata": {},
     "output_type": "execute_result"
    }
   ],
   "source": [
    "(np.sin(1.883)-1.883/2)**2"
   ]
  },
  {
   "cell_type": "code",
   "execution_count": null,
   "id": "9c8cfee1-44b9-4d44-acda-bfb68a74cb26",
   "metadata": {},
   "outputs": [],
   "source": []
  },
  {
   "cell_type": "code",
   "execution_count": 38,
   "id": "838afe95-ccd2-4508-b318-c414d923abf5",
   "metadata": {
    "tags": []
   },
   "outputs": [
    {
     "data": {
      "text/plain": [
       "array([1. , 1.1, 1.2, 1.3, 1.4, 1.5, 1.6, 1.7, 1.8, 1.9])"
      ]
     },
     "execution_count": 38,
     "metadata": {},
     "output_type": "execute_result"
    }
   ],
   "source": [
    "np.linspace(1,2,10, endpoint=False)"
   ]
  },
  {
   "cell_type": "code",
   "execution_count": 46,
   "id": "d606f0b3-9d2a-4f14-b8ca-64046128bd16",
   "metadata": {
    "tags": []
   },
   "outputs": [
    {
     "name": "stdout",
     "output_type": "stream",
     "text": [
      "0.2222 & 0.0222 & 0.9518 & 0.0212 & 0.0212\n",
      "0.2444 & 0.0222 & 0.942 & 0.0209 & 0.0421\n",
      "0.2667 & 0.0222 & 0.9314 & 0.0207 & 0.0628\n",
      "0.2889 & 0.0222 & 0.9199 & 0.0204 & 0.0832\n",
      "0.3111 & 0.0222 & 0.9077 & 0.0202 & 0.1034\n",
      "0.3333 & 0.0222 & 0.8948 & 0.0199 & 0.1233\n",
      "0.3556 & 0.0222 & 0.8812 & 0.0196 & 0.1429\n",
      "0.3778 & 0.0222 & 0.867 & 0.0193 & 0.1621\n",
      "0.4 & 0.0222 & 0.8521 & 0.0189 & 0.1811\n",
      "0.18106839575318504\n"
     ]
    }
   ],
   "source": [
    "import numpy as np\n",
    "def f1(x):\n",
    "    return np.e**-(x**2)\n",
    "\n",
    "total_sum = 0\n",
    "points = 10\n",
    "x = np.linspace(0.2, 0.4, points)\n",
    "for idx, i in enumerate(x):\n",
    "    if idx==0:\n",
    "        continue\n",
    "    dx = i-x[idx-1]\n",
    "    total_sum += f1(i)*dx\n",
    "    print(round(i,4), '&', round(dx,4), '&', round(f1(i),4), '&', round(f1(i)*dx,4), '&', round(total_sum,4))\n",
    "print(total_sum)    "
   ]
  },
  {
   "cell_type": "code",
   "execution_count": 54,
   "id": "6941954d-4bd0-4b18-a0f0-a74c7f14af1f",
   "metadata": {
    "tags": []
   },
   "outputs": [
    {
     "name": "stdout",
     "output_type": "stream",
     "text": [
      "0.3333 & 0.3333 & 0.0621 & 0.0207 & 0.0207\n",
      "0.6667 & 0.3333 & 0.0608 & 0.0203 & 0.041\n",
      "1.0 & 0.3333 & 0.0588 & 0.0196 & 0.0606\n",
      "1.3333 & 0.3333 & 0.0562 & 0.0187 & 0.0793\n",
      "1.6667 & 0.3333 & 0.0533 & 0.0178 & 0.0971\n",
      "2.0 & 0.3333 & 0.05 & 0.0167 & 0.1137\n",
      "2.3333 & 0.3333 & 0.0466 & 0.0155 & 0.1293\n",
      "2.6667 & 0.3333 & 0.0433 & 0.0144 & 0.1437\n",
      "3.0 & 0.3333 & 0.04 & 0.0133 & 0.157\n",
      "0.1570363662437339\n"
     ]
    }
   ],
   "source": [
    "def f2(x):\n",
    "    return 1/(16+x**2)\n",
    "\n",
    "total_sum = 0\n",
    "points = 10\n",
    "\n",
    "x = np.linspace(0, 3, points)\n",
    "for idx, i in enumerate(x):\n",
    "    if idx==0:\n",
    "        continue\n",
    "    dx = i-x[idx-1]\n",
    "    total_sum += f2(i)*dx\n",
    "    print(round(i,4), '&',  round(dx,4), '&', round(f2(i),4), '&', round(f2(i)*dx,4), '&', round(total_sum,4))\n",
    "    \n",
    "print(total_sum)    "
   ]
  },
  {
   "cell_type": "code",
   "execution_count": null,
   "id": "ebc6189a-eed8-404b-9d9b-118cc99aa572",
   "metadata": {},
   "outputs": [],
   "source": [
    "\n",
    "\n"
   ]
  },
  {
   "cell_type": "code",
   "execution_count": null,
   "id": "e90d32f1-fccb-4493-876a-2429a68d18d6",
   "metadata": {},
   "outputs": [],
   "source": [
    "import numpy as np"
   ]
  },
  {
   "cell_type": "code",
   "execution_count": 225,
   "id": "f3730945-a649-474c-8ce5-1ff0620383aa",
   "metadata": {
    "tags": []
   },
   "outputs": [],
   "source": [
    "matrix = np.array(\n",
    "[[4, -2, -1, 0, -10],\n",
    "[-2,  9, -5, 0,   5],\n",
    "[-1,  6, -3, 0,   0],\n",
    "[ 0, -5, -3, 10,  0],], dtype=float)"
   ]
  },
  {
   "cell_type": "code",
   "execution_count": 226,
   "id": "c1483571-fc3c-413a-9ed3-2f684bc5e181",
   "metadata": {
    "tags": []
   },
   "outputs": [
    {
     "name": "stdout",
     "output_type": "stream",
     "text": [
      "solution [5.29411765 3.23529412 4.70588235 3.02941176]\n"
     ]
    }
   ],
   "source": [
    "a = [line[:-1] for line in matrix]\n",
    "b = [-line[-1] for line in matrix]\n",
    "\n",
    "print(\"solution\", np.linalg.solve(a, b))"
   ]
  },
  {
   "cell_type": "code",
   "execution_count": 227,
   "id": "e548b640-b9fd-46f6-bf2e-bbfde021cbae",
   "metadata": {
    "tags": []
   },
   "outputs": [
    {
     "name": "stdout",
     "output_type": "stream",
     "text": [
      "--  --  --  --  ---\n",
      " 4  -2  -1   0  -10\n",
      "-2   9  -5   0    5\n",
      "-1   6  -3   0    0\n",
      " 0  -5  -3  10    0\n",
      "--  --  --  --  ---\n"
     ]
    }
   ],
   "source": [
    "print(tabulate(matrix))"
   ]
  },
  {
   "cell_type": "code",
   "execution_count": 248,
   "id": "3548afce-4383-4069-92c5-8fd3c8326420",
   "metadata": {
    "tags": []
   },
   "outputs": [
    {
     "name": "stdout",
     "output_type": "stream",
     "text": [
      "\\begin{tabular}{rrrrr}\n",
      "\\hline\n",
      "  4 & -2 & -1 &  0 & -10 \\\\\n",
      " -2 &  9 & -5 &  0 &   5 \\\\\n",
      " -1 &  6 & -3 &  0 &   0 \\\\\n",
      "  0 & -5 & -3 & 10 &   0 \\\\\n",
      "\\hline\n",
      "\\end{tabular}\n",
      "\n",
      "multiplicando a linha 1 por 2.0/4.0 = 0.5 e somando à linha 2\\\\\n",
      "multiplicando a linha 1 por 1.0/4.0 = 0.25 e somando à linha 3\\\\\n",
      "\\begin{tabular}{rrrrr}\n",
      "\\hline\n",
      " 4 & -2   & -1    &  0 & -10   \\\\\n",
      " 0 &  8   & -5.5  &  0 &   0   \\\\\n",
      " 0 &  5.5 & -3.25 &  0 &  -2.5 \\\\\n",
      " 0 & -5   & -3    & 10 &   0   \\\\\n",
      "\\hline\n",
      "\\end{tabular}\n",
      "\n",
      "multiplicando a linha 2 por -5.5/8.0 = -0.6875 e somando à linha 3\\\\\n",
      "multiplicando a linha 2 por 5.0/8.0 = 0.625 e somando à linha 4\\\\\n",
      "\\begin{tabular}{rrrrr}\n",
      "\\hline\n",
      " 4 & -2 & -1       &  0 & -10   \\\\\n",
      " 0 &  8 & -5.5     &  0 &   0   \\\\\n",
      " 0 &  0 &  0.53125 &  0 &  -2.5 \\\\\n",
      " 0 &  0 & -6.4375  & 10 &   0   \\\\\n",
      "\\hline\n",
      "\\end{tabular}\n",
      "\n",
      "multiplicando a linha 3 por 6.4375/0.53125 = 12.117647058823529 e somando à linha 4\\\\\n",
      "\\begin{tabular}{rrrrr}\n",
      "\\hline\n",
      " 4 & -2 & -1       &  0 & -10      \\\\\n",
      " 0 &  8 & -5.5     &  0 &   0      \\\\\n",
      " 0 &  0 &  0.53125 &  0 &  -2.5    \\\\\n",
      " 0 &  0 &  0       & 10 & -30.2941 \\\\\n",
      "\\hline\n",
      "\\end{tabular}\n",
      "\n",
      "\\begin{tabular}{rrrrr}\n",
      "\\hline\n",
      " 4 & -2 & -1       &  0 & -10      \\\\\n",
      " 0 &  8 & -5.5     &  0 &   0      \\\\\n",
      " 0 &  0 &  0.53125 &  0 &  -2.5    \\\\\n",
      " 0 &  0 &  0       & 10 & -30.2941 \\\\\n",
      "\\hline\n",
      "\\end{tabular}\n",
      "\n",
      "\\begin{tabular}{rrrrr}\n",
      "\\hline\n",
      " 4 & -2 & -1       &  0 & -10      \\\\\n",
      " 0 &  8 & -5.5     &  0 &   0      \\\\\n",
      " 0 &  0 &  0.53125 &  0 &  -2.5    \\\\\n",
      " 0 &  0 &  0       & 10 & -30.2941 \\\\\n",
      "\\hline\n",
      "\\end{tabular}\n",
      "\n",
      "\\begin{tabular}{rrrrr}\n",
      "\\hline\n",
      " 4 & -2 & -1       &  0 & -10      \\\\\n",
      " 0 &  8 & -5.5     &  0 &   0      \\\\\n",
      " 0 &  0 &  0.53125 &  0 &  -2.5    \\\\\n",
      " 0 &  0 &  0       & 10 & -30.2941 \\\\\n",
      "\\hline\n",
      "\\end{tabular}\n",
      "\n",
      "multiplicando a linha 3 por 1.0/0.53125 = 1.8823529411764706 e somando à linha 1\\\\\n",
      "multiplicando a linha 3 por 5.5/0.53125 = 10.352941176470589 e somando à linha 2\\\\\n",
      "\\begin{tabular}{rrrrr}\n",
      "\\hline\n",
      " 4 & -2 & 0       &  0 & -14.7059 \\\\\n",
      " 0 &  8 & 0       &  0 & -25.8824 \\\\\n",
      " 0 &  0 & 0.53125 &  0 &  -2.5    \\\\\n",
      " 0 &  0 & 0       & 10 & -30.2941 \\\\\n",
      "\\hline\n",
      "\\end{tabular}\n",
      "\n",
      "multiplicando a linha 2 por 2.0/8.0 = 0.25 e somando à linha 1\\\\\n",
      "\\begin{tabular}{rrrrr}\n",
      "\\hline\n",
      " 4 & 0 & 0       &  0 & -21.1765 \\\\\n",
      " 0 & 8 & 0       &  0 & -25.8824 \\\\\n",
      " 0 & 0 & 0.53125 &  0 &  -2.5    \\\\\n",
      " 0 & 0 & 0       & 10 & -30.2941 \\\\\n",
      "\\hline\n",
      "\\end{tabular}\n",
      "\n",
      "dividindo a linha 1 por 4.0\\\\\n",
      "dividindo a linha 2 por 8.0\\\\\n",
      "dividindo a linha 3 por 0.53125\\\\\n",
      "dividindo a linha 4 por 10.0\\\\\n",
      "\\begin{tabular}{rrrrr}\n",
      "\\hline\n",
      " 1 & 0 & 0 & 0 & -5.29412 \\\\\n",
      " 0 & 1 & 0 & 0 & -3.23529 \\\\\n",
      " 0 & 0 & 1 & 0 & -4.70588 \\\\\n",
      " 0 & 0 & 0 & 1 & -3.02941 \\\\\n",
      "\\hline\n",
      "\\end{tabular}\n",
      "[5.294, 3.235, 4.706, 3.029]\n"
     ]
    }
   ],
   "source": [
    "from copy import deepcopy\n",
    "\n",
    "def normalize_matrix(matrix):\n",
    "    for idx, line in enumerate(matrix):\n",
    "        if line[idx] == 0:\n",
    "            continue\n",
    "        print(f\"dividindo a linha {idx+1} por {line[idx]}\\\\\\\\\")\n",
    "        \n",
    "        matrix[idx] /= line[idx]\n",
    "    \n",
    "    return matrix\n",
    "\n",
    "def reverse_triang_matrix(matrix, p):\n",
    "    print(tabulate(matrix, tablefmt=\"latex\"))\n",
    "    print()\n",
    "    if p == 1:\n",
    "        return normalize_matrix(matrix)\n",
    "    \n",
    "    idx_ref_line = -(len(matrix)-p+1)\n",
    "    pivot = matrix[p-1][p-1]\n",
    "    if pivot == 0:\n",
    "        return reverse_triang_matrix(matrix, p-1)\n",
    "\n",
    "    m = matrix[:idx_ref_line]\n",
    "\n",
    "    for idx, line in enumerate(m):\n",
    "        b = -line[p-1]\n",
    "        k = b/pivot\n",
    "        if k == 0:\n",
    "            continue\n",
    "        line = line + k*matrix[idx_ref_line]\n",
    "        print(f\"multiplicando a linha {p} por {b}/{pivot} = {k} e somando à linha {idx+1}\\\\\\\\\")\n",
    "\n",
    "        matrix[idx] = line\n",
    "\n",
    "    return reverse_triang_matrix(matrix, p-1)\n",
    "\n",
    "\n",
    "def triang_matrix(matrix, p=0):\n",
    "    print(tabulate(matrix, tablefmt=\"latex\"))\n",
    "    print()\n",
    "    if p == len(matrix):\n",
    "        return reverse_triang_matrix(matrix, p)\n",
    "\n",
    "    pivot = matrix[p][p]\n",
    "    if pivot == 0:\n",
    "        return reverse_triang_matrix(matrix, p+1)\n",
    "    m = matrix[p+1:]\n",
    "\n",
    "    for idx, line in enumerate(m):\n",
    "        b = -line[p]\n",
    "        k = b/pivot\n",
    "        line = line + k*matrix[p]\n",
    "        if k == 0:\n",
    "            continue\n",
    "        print(f\"multiplicando a linha {p+1} por {b}/{pivot} = {k} e somando à linha {p+2+idx}\\\\\\\\\")\n",
    "        matrix[p+1+idx] = line\n",
    "\n",
    "\n",
    "    return triang_matrix(matrix, p+1)\n",
    "\n",
    "def invert_matrix(matrix):\n",
    "    sol = np.concatenate((matrix, np.identity(len(matrix)).T), axis=1)\n",
    "    solved = triang_matrix(sol)\n",
    "    return(solved)\n",
    "\n",
    "diag_matrix = triang_matrix(deepcopy(matrix))\n",
    "from tabulate import tabulate\n",
    "print(tabulate(diag_matrix, tablefmt=\"latex\"))\n",
    "print([round(-line[-1],3) for line in diag_matrix])"
   ]
  },
  {
   "cell_type": "code",
   "execution_count": 249,
   "id": "3cb4bd98-0472-484d-9131-b21f240848ea",
   "metadata": {
    "tags": []
   },
   "outputs": [
    {
     "name": "stdout",
     "output_type": "stream",
     "text": [
      "\\begin{tabular}{rrrrrr}\n",
      "\\hline\n",
      "  2 & 0 & -1 & 1 & 0 & 0 \\\\\n",
      "  3 & 1 &  2 & 0 & 1 & 0 \\\\\n",
      " -1 & 0 &  1 & 0 & 0 & 1 \\\\\n",
      "\\hline\n",
      "\\end{tabular}\n",
      "\n",
      "multiplicando a linha 1 por -3.0/2.0 = -1.5 e somando à linha 2\\\\\n",
      "multiplicando a linha 1 por 1.0/2.0 = 0.5 e somando à linha 3\\\\\n",
      "\\begin{tabular}{rrrrrr}\n",
      "\\hline\n",
      " 2 & 0 & -1   &  1   & 0 & 0 \\\\\n",
      " 0 & 1 &  3.5 & -1.5 & 1 & 0 \\\\\n",
      " 0 & 0 &  0.5 &  0.5 & 0 & 1 \\\\\n",
      "\\hline\n",
      "\\end{tabular}\n",
      "\n",
      "\\begin{tabular}{rrrrrr}\n",
      "\\hline\n",
      " 2 & 0 & -1   &  1   & 0 & 0 \\\\\n",
      " 0 & 1 &  3.5 & -1.5 & 1 & 0 \\\\\n",
      " 0 & 0 &  0.5 &  0.5 & 0 & 1 \\\\\n",
      "\\hline\n",
      "\\end{tabular}\n",
      "\n",
      "\\begin{tabular}{rrrrrr}\n",
      "\\hline\n",
      " 2 & 0 & -1   &  1   & 0 & 0 \\\\\n",
      " 0 & 1 &  3.5 & -1.5 & 1 & 0 \\\\\n",
      " 0 & 0 &  0.5 &  0.5 & 0 & 1 \\\\\n",
      "\\hline\n",
      "\\end{tabular}\n",
      "\n",
      "\\begin{tabular}{rrrrrr}\n",
      "\\hline\n",
      " 2 & 0 & -1   &  1   & 0 & 0 \\\\\n",
      " 0 & 1 &  3.5 & -1.5 & 1 & 0 \\\\\n",
      " 0 & 0 &  0.5 &  0.5 & 0 & 1 \\\\\n",
      "\\hline\n",
      "\\end{tabular}\n",
      "\n",
      "multiplicando a linha 3 por 1.0/0.5 = 2.0 e somando à linha 1\\\\\n",
      "multiplicando a linha 3 por -3.5/0.5 = -7.0 e somando à linha 2\\\\\n",
      "\\begin{tabular}{rrrrrr}\n",
      "\\hline\n",
      " 2 & 0 & 0   &  2   & 0 &  2 \\\\\n",
      " 0 & 1 & 0   & -5   & 1 & -7 \\\\\n",
      " 0 & 0 & 0.5 &  0.5 & 0 &  1 \\\\\n",
      "\\hline\n",
      "\\end{tabular}\n",
      "\n",
      "\\begin{tabular}{rrrrrr}\n",
      "\\hline\n",
      " 2 & 0 & 0   &  2   & 0 &  2 \\\\\n",
      " 0 & 1 & 0   & -5   & 1 & -7 \\\\\n",
      " 0 & 0 & 0.5 &  0.5 & 0 &  1 \\\\\n",
      "\\hline\n",
      "\\end{tabular}\n",
      "\n",
      "dividindo a linha 1 por 2.0\\\\\n",
      "dividindo a linha 2 por 1.0\\\\\n",
      "dividindo a linha 3 por 0.5\\\\\n",
      "\\begin{tabular}{rrrrrr}\n",
      "\\hline\n",
      " 1 & 0 & 0 &  1 & 0 &  1 \\\\\n",
      " 0 & 1 & 0 & -5 & 1 & -7 \\\\\n",
      " 0 & 0 & 1 &  1 & 0 &  2 \\\\\n",
      "\\hline\n",
      "\\end{tabular}\n"
     ]
    }
   ],
   "source": [
    "matr = np.array(\n",
    "[[2,0,-1],\n",
    " [3,1,2],\n",
    " [-1,0,1],\n",
    " \n",
    "], dtype=float)\n",
    "inv = invert_matrix(matr)\n",
    "\n",
    "print(tabulate(inv, tablefmt=\"latex\"))"
   ]
  },
  {
   "cell_type": "code",
   "execution_count": null,
   "id": "570a72ab-1a11-437f-a56c-5fe0f2d2ee37",
   "metadata": {
    "tags": []
   },
   "outputs": [],
   "source": []
  },
  {
   "cell_type": "code",
   "execution_count": null,
   "id": "b3767910-1db0-4e9d-88ab-7597517c99c4",
   "metadata": {
    "tags": []
   },
   "outputs": [],
   "source": []
  },
  {
   "cell_type": "code",
   "execution_count": null,
   "id": "9aebe787-0c13-4954-bc81-9174903d831d",
   "metadata": {},
   "outputs": [],
   "source": []
  }
 ],
 "metadata": {
  "kernelspec": {
   "display_name": "Python 3 (ipykernel)",
   "language": "python",
   "name": "python3"
  },
  "language_info": {
   "codemirror_mode": {
    "name": "ipython",
    "version": 3
   },
   "file_extension": ".py",
   "mimetype": "text/x-python",
   "name": "python",
   "nbconvert_exporter": "python",
   "pygments_lexer": "ipython3",
   "version": "3.8.10"
  }
 },
 "nbformat": 4,
 "nbformat_minor": 5
}
